{
  "nbformat": 4,
  "nbformat_minor": 0,
  "metadata": {
    "colab": {
      "provenance": [],
      "collapsed_sections": [],
      "authorship_tag": "ABX9TyNX7dSKBtY14oFI/4JGw3/r",
      "include_colab_link": true
    },
    "kernelspec": {
      "name": "python3",
      "display_name": "Python 3"
    },
    "language_info": {
      "name": "python"
    },
    "accelerator": "GPU"
  },
  "cells": [
    {
      "cell_type": "markdown",
      "metadata": {
        "id": "view-in-github",
        "colab_type": "text"
      },
      "source": [
        "<a href=\"https://colab.research.google.com/github/Leyladeligoz/GlobalHubBootcampFinalProje/blob/main/ModelHazirlanmasiveEgitilmesi.ipynb\" target=\"_parent\"><img src=\"https://colab.research.google.com/assets/colab-badge.svg\" alt=\"Open In Colab\"/></a>"
      ]
    },
    {
      "cell_type": "code",
      "source": [
        "import tensorflow as tf\n",
        "import numpy as np\n",
        "import pandas as pd\n",
        "import matplotlib.pyplot as plt"
      ],
      "metadata": {
        "id": "YVmgE6ZP0uwF"
      },
      "execution_count": null,
      "outputs": []
    },
    {
      "cell_type": "code",
      "source": [
        "df_X_train = pd.read_csv('/content/drive/MyDrive/UrbanSoundNewFile/Image_X_train.csv')\n",
        "df_X_val = pd.read_csv('/content/drive/MyDrive/UrbanSoundNewFile/Image_X_val.csv')\n",
        "df_X_test = pd.read_csv('/content/drive/MyDrive/UrbanSoundNewFile/Image_X_test.csv')"
      ],
      "metadata": {
        "id": "uOLDBYsn0xkd"
      },
      "execution_count": null,
      "outputs": []
    },
    {
      "cell_type": "code",
      "source": [
        "df_y_train = pd.read_csv('/content/drive/MyDrive/UrbanSoundNewFile/Image_y_train.csv')\n",
        "df_y_val = pd.read_csv('/content/drive/MyDrive/UrbanSoundNewFile/Image_y_val.csv')\n",
        "df_y_test = pd.read_csv('/content/drive/MyDrive/UrbanSoundNewFile/Image_y_test.csv')"
      ],
      "metadata": {
        "id": "ju0KeGDZ0zGF"
      },
      "execution_count": null,
      "outputs": []
    },
    {
      "cell_type": "code",
      "source": [
        "df_X_train"
      ],
      "metadata": {
        "colab": {
          "base_uri": "https://localhost:8080/",
          "height": 424
        },
        "id": "VJ_24-Ej00ZH",
        "outputId": "20422b1a-ca9e-428c-d9cf-f478f2c3d96d"
      },
      "execution_count": null,
      "outputs": [
        {
          "output_type": "execute_result",
          "data": {
            "text/plain": [
              "                                                  Image\n",
              "0     [[  0   0   0   0   0   4   0   0   0   5   0 ...\n",
              "1     [[  0   0   0   0   0   4   0   0   0   5   0 ...\n",
              "2     [[  0   0   0   0   0   4   0   0   0   5   0 ...\n",
              "3     [[  0   0   0   0   0   4   0   0   0   5   0 ...\n",
              "4     [[  0   0   0   0   0   4   0   0   0   5   0 ...\n",
              "...                                                 ...\n",
              "6980  [[  0   0   0   0   0   4   0   0   0   5   0 ...\n",
              "6981  [[  0   0   0   0   0   4   0   0   0   5   0 ...\n",
              "6982  [[  0   0   0   0   0   4   0   0   0   5   0 ...\n",
              "6983  [[  0   0   0   0   0   4   0   0   0   5   0 ...\n",
              "6984  [[  0   0   0   0   0   4   0   0   0   5   0 ...\n",
              "\n",
              "[6985 rows x 1 columns]"
            ],
            "text/html": [
              "\n",
              "  <div id=\"df-bfb9f745-defd-4332-a54f-1fc0023c4d9d\">\n",
              "    <div class=\"colab-df-container\">\n",
              "      <div>\n",
              "<style scoped>\n",
              "    .dataframe tbody tr th:only-of-type {\n",
              "        vertical-align: middle;\n",
              "    }\n",
              "\n",
              "    .dataframe tbody tr th {\n",
              "        vertical-align: top;\n",
              "    }\n",
              "\n",
              "    .dataframe thead th {\n",
              "        text-align: right;\n",
              "    }\n",
              "</style>\n",
              "<table border=\"1\" class=\"dataframe\">\n",
              "  <thead>\n",
              "    <tr style=\"text-align: right;\">\n",
              "      <th></th>\n",
              "      <th>Image</th>\n",
              "    </tr>\n",
              "  </thead>\n",
              "  <tbody>\n",
              "    <tr>\n",
              "      <th>0</th>\n",
              "      <td>[[  0   0   0   0   0   4   0   0   0   5   0 ...</td>\n",
              "    </tr>\n",
              "    <tr>\n",
              "      <th>1</th>\n",
              "      <td>[[  0   0   0   0   0   4   0   0   0   5   0 ...</td>\n",
              "    </tr>\n",
              "    <tr>\n",
              "      <th>2</th>\n",
              "      <td>[[  0   0   0   0   0   4   0   0   0   5   0 ...</td>\n",
              "    </tr>\n",
              "    <tr>\n",
              "      <th>3</th>\n",
              "      <td>[[  0   0   0   0   0   4   0   0   0   5   0 ...</td>\n",
              "    </tr>\n",
              "    <tr>\n",
              "      <th>4</th>\n",
              "      <td>[[  0   0   0   0   0   4   0   0   0   5   0 ...</td>\n",
              "    </tr>\n",
              "    <tr>\n",
              "      <th>...</th>\n",
              "      <td>...</td>\n",
              "    </tr>\n",
              "    <tr>\n",
              "      <th>6980</th>\n",
              "      <td>[[  0   0   0   0   0   4   0   0   0   5   0 ...</td>\n",
              "    </tr>\n",
              "    <tr>\n",
              "      <th>6981</th>\n",
              "      <td>[[  0   0   0   0   0   4   0   0   0   5   0 ...</td>\n",
              "    </tr>\n",
              "    <tr>\n",
              "      <th>6982</th>\n",
              "      <td>[[  0   0   0   0   0   4   0   0   0   5   0 ...</td>\n",
              "    </tr>\n",
              "    <tr>\n",
              "      <th>6983</th>\n",
              "      <td>[[  0   0   0   0   0   4   0   0   0   5   0 ...</td>\n",
              "    </tr>\n",
              "    <tr>\n",
              "      <th>6984</th>\n",
              "      <td>[[  0   0   0   0   0   4   0   0   0   5   0 ...</td>\n",
              "    </tr>\n",
              "  </tbody>\n",
              "</table>\n",
              "<p>6985 rows × 1 columns</p>\n",
              "</div>\n",
              "      <button class=\"colab-df-convert\" onclick=\"convertToInteractive('df-bfb9f745-defd-4332-a54f-1fc0023c4d9d')\"\n",
              "              title=\"Convert this dataframe to an interactive table.\"\n",
              "              style=\"display:none;\">\n",
              "        \n",
              "  <svg xmlns=\"http://www.w3.org/2000/svg\" height=\"24px\"viewBox=\"0 0 24 24\"\n",
              "       width=\"24px\">\n",
              "    <path d=\"M0 0h24v24H0V0z\" fill=\"none\"/>\n",
              "    <path d=\"M18.56 5.44l.94 2.06.94-2.06 2.06-.94-2.06-.94-.94-2.06-.94 2.06-2.06.94zm-11 1L8.5 8.5l.94-2.06 2.06-.94-2.06-.94L8.5 2.5l-.94 2.06-2.06.94zm10 10l.94 2.06.94-2.06 2.06-.94-2.06-.94-.94-2.06-.94 2.06-2.06.94z\"/><path d=\"M17.41 7.96l-1.37-1.37c-.4-.4-.92-.59-1.43-.59-.52 0-1.04.2-1.43.59L10.3 9.45l-7.72 7.72c-.78.78-.78 2.05 0 2.83L4 21.41c.39.39.9.59 1.41.59.51 0 1.02-.2 1.41-.59l7.78-7.78 2.81-2.81c.8-.78.8-2.07 0-2.86zM5.41 20L4 18.59l7.72-7.72 1.47 1.35L5.41 20z\"/>\n",
              "  </svg>\n",
              "      </button>\n",
              "      \n",
              "  <style>\n",
              "    .colab-df-container {\n",
              "      display:flex;\n",
              "      flex-wrap:wrap;\n",
              "      gap: 12px;\n",
              "    }\n",
              "\n",
              "    .colab-df-convert {\n",
              "      background-color: #E8F0FE;\n",
              "      border: none;\n",
              "      border-radius: 50%;\n",
              "      cursor: pointer;\n",
              "      display: none;\n",
              "      fill: #1967D2;\n",
              "      height: 32px;\n",
              "      padding: 0 0 0 0;\n",
              "      width: 32px;\n",
              "    }\n",
              "\n",
              "    .colab-df-convert:hover {\n",
              "      background-color: #E2EBFA;\n",
              "      box-shadow: 0px 1px 2px rgba(60, 64, 67, 0.3), 0px 1px 3px 1px rgba(60, 64, 67, 0.15);\n",
              "      fill: #174EA6;\n",
              "    }\n",
              "\n",
              "    [theme=dark] .colab-df-convert {\n",
              "      background-color: #3B4455;\n",
              "      fill: #D2E3FC;\n",
              "    }\n",
              "\n",
              "    [theme=dark] .colab-df-convert:hover {\n",
              "      background-color: #434B5C;\n",
              "      box-shadow: 0px 1px 3px 1px rgba(0, 0, 0, 0.15);\n",
              "      filter: drop-shadow(0px 1px 2px rgba(0, 0, 0, 0.3));\n",
              "      fill: #FFFFFF;\n",
              "    }\n",
              "  </style>\n",
              "\n",
              "      <script>\n",
              "        const buttonEl =\n",
              "          document.querySelector('#df-bfb9f745-defd-4332-a54f-1fc0023c4d9d button.colab-df-convert');\n",
              "        buttonEl.style.display =\n",
              "          google.colab.kernel.accessAllowed ? 'block' : 'none';\n",
              "\n",
              "        async function convertToInteractive(key) {\n",
              "          const element = document.querySelector('#df-bfb9f745-defd-4332-a54f-1fc0023c4d9d');\n",
              "          const dataTable =\n",
              "            await google.colab.kernel.invokeFunction('convertToInteractive',\n",
              "                                                     [key], {});\n",
              "          if (!dataTable) return;\n",
              "\n",
              "          const docLinkHtml = 'Like what you see? Visit the ' +\n",
              "            '<a target=\"_blank\" href=https://colab.research.google.com/notebooks/data_table.ipynb>data table notebook</a>'\n",
              "            + ' to learn more about interactive tables.';\n",
              "          element.innerHTML = '';\n",
              "          dataTable['output_type'] = 'display_data';\n",
              "          await google.colab.output.renderOutput(dataTable, element);\n",
              "          const docLink = document.createElement('div');\n",
              "          docLink.innerHTML = docLinkHtml;\n",
              "          element.appendChild(docLink);\n",
              "        }\n",
              "      </script>\n",
              "    </div>\n",
              "  </div>\n",
              "  "
            ]
          },
          "metadata": {},
          "execution_count": 60
        }
      ]
    },
    {
      "cell_type": "code",
      "source": [
        "df_y_train"
      ],
      "metadata": {
        "colab": {
          "base_uri": "https://localhost:8080/",
          "height": 424
        },
        "id": "oE8DQeuk01j9",
        "outputId": "3e18ec65-7650-48f4-9494-28105b599bb4"
      },
      "execution_count": null,
      "outputs": [
        {
          "output_type": "execute_result",
          "data": {
            "text/plain": [
              "      ClassId\n",
              "0           0\n",
              "1           7\n",
              "2           9\n",
              "3           1\n",
              "4           7\n",
              "...       ...\n",
              "6980        3\n",
              "6981        4\n",
              "6982        0\n",
              "6983        8\n",
              "6984        9\n",
              "\n",
              "[6985 rows x 1 columns]"
            ],
            "text/html": [
              "\n",
              "  <div id=\"df-25c5276b-e532-4955-aee1-4d8d536e69fe\">\n",
              "    <div class=\"colab-df-container\">\n",
              "      <div>\n",
              "<style scoped>\n",
              "    .dataframe tbody tr th:only-of-type {\n",
              "        vertical-align: middle;\n",
              "    }\n",
              "\n",
              "    .dataframe tbody tr th {\n",
              "        vertical-align: top;\n",
              "    }\n",
              "\n",
              "    .dataframe thead th {\n",
              "        text-align: right;\n",
              "    }\n",
              "</style>\n",
              "<table border=\"1\" class=\"dataframe\">\n",
              "  <thead>\n",
              "    <tr style=\"text-align: right;\">\n",
              "      <th></th>\n",
              "      <th>ClassId</th>\n",
              "    </tr>\n",
              "  </thead>\n",
              "  <tbody>\n",
              "    <tr>\n",
              "      <th>0</th>\n",
              "      <td>0</td>\n",
              "    </tr>\n",
              "    <tr>\n",
              "      <th>1</th>\n",
              "      <td>7</td>\n",
              "    </tr>\n",
              "    <tr>\n",
              "      <th>2</th>\n",
              "      <td>9</td>\n",
              "    </tr>\n",
              "    <tr>\n",
              "      <th>3</th>\n",
              "      <td>1</td>\n",
              "    </tr>\n",
              "    <tr>\n",
              "      <th>4</th>\n",
              "      <td>7</td>\n",
              "    </tr>\n",
              "    <tr>\n",
              "      <th>...</th>\n",
              "      <td>...</td>\n",
              "    </tr>\n",
              "    <tr>\n",
              "      <th>6980</th>\n",
              "      <td>3</td>\n",
              "    </tr>\n",
              "    <tr>\n",
              "      <th>6981</th>\n",
              "      <td>4</td>\n",
              "    </tr>\n",
              "    <tr>\n",
              "      <th>6982</th>\n",
              "      <td>0</td>\n",
              "    </tr>\n",
              "    <tr>\n",
              "      <th>6983</th>\n",
              "      <td>8</td>\n",
              "    </tr>\n",
              "    <tr>\n",
              "      <th>6984</th>\n",
              "      <td>9</td>\n",
              "    </tr>\n",
              "  </tbody>\n",
              "</table>\n",
              "<p>6985 rows × 1 columns</p>\n",
              "</div>\n",
              "      <button class=\"colab-df-convert\" onclick=\"convertToInteractive('df-25c5276b-e532-4955-aee1-4d8d536e69fe')\"\n",
              "              title=\"Convert this dataframe to an interactive table.\"\n",
              "              style=\"display:none;\">\n",
              "        \n",
              "  <svg xmlns=\"http://www.w3.org/2000/svg\" height=\"24px\"viewBox=\"0 0 24 24\"\n",
              "       width=\"24px\">\n",
              "    <path d=\"M0 0h24v24H0V0z\" fill=\"none\"/>\n",
              "    <path d=\"M18.56 5.44l.94 2.06.94-2.06 2.06-.94-2.06-.94-.94-2.06-.94 2.06-2.06.94zm-11 1L8.5 8.5l.94-2.06 2.06-.94-2.06-.94L8.5 2.5l-.94 2.06-2.06.94zm10 10l.94 2.06.94-2.06 2.06-.94-2.06-.94-.94-2.06-.94 2.06-2.06.94z\"/><path d=\"M17.41 7.96l-1.37-1.37c-.4-.4-.92-.59-1.43-.59-.52 0-1.04.2-1.43.59L10.3 9.45l-7.72 7.72c-.78.78-.78 2.05 0 2.83L4 21.41c.39.39.9.59 1.41.59.51 0 1.02-.2 1.41-.59l7.78-7.78 2.81-2.81c.8-.78.8-2.07 0-2.86zM5.41 20L4 18.59l7.72-7.72 1.47 1.35L5.41 20z\"/>\n",
              "  </svg>\n",
              "      </button>\n",
              "      \n",
              "  <style>\n",
              "    .colab-df-container {\n",
              "      display:flex;\n",
              "      flex-wrap:wrap;\n",
              "      gap: 12px;\n",
              "    }\n",
              "\n",
              "    .colab-df-convert {\n",
              "      background-color: #E8F0FE;\n",
              "      border: none;\n",
              "      border-radius: 50%;\n",
              "      cursor: pointer;\n",
              "      display: none;\n",
              "      fill: #1967D2;\n",
              "      height: 32px;\n",
              "      padding: 0 0 0 0;\n",
              "      width: 32px;\n",
              "    }\n",
              "\n",
              "    .colab-df-convert:hover {\n",
              "      background-color: #E2EBFA;\n",
              "      box-shadow: 0px 1px 2px rgba(60, 64, 67, 0.3), 0px 1px 3px 1px rgba(60, 64, 67, 0.15);\n",
              "      fill: #174EA6;\n",
              "    }\n",
              "\n",
              "    [theme=dark] .colab-df-convert {\n",
              "      background-color: #3B4455;\n",
              "      fill: #D2E3FC;\n",
              "    }\n",
              "\n",
              "    [theme=dark] .colab-df-convert:hover {\n",
              "      background-color: #434B5C;\n",
              "      box-shadow: 0px 1px 3px 1px rgba(0, 0, 0, 0.15);\n",
              "      filter: drop-shadow(0px 1px 2px rgba(0, 0, 0, 0.3));\n",
              "      fill: #FFFFFF;\n",
              "    }\n",
              "  </style>\n",
              "\n",
              "      <script>\n",
              "        const buttonEl =\n",
              "          document.querySelector('#df-25c5276b-e532-4955-aee1-4d8d536e69fe button.colab-df-convert');\n",
              "        buttonEl.style.display =\n",
              "          google.colab.kernel.accessAllowed ? 'block' : 'none';\n",
              "\n",
              "        async function convertToInteractive(key) {\n",
              "          const element = document.querySelector('#df-25c5276b-e532-4955-aee1-4d8d536e69fe');\n",
              "          const dataTable =\n",
              "            await google.colab.kernel.invokeFunction('convertToInteractive',\n",
              "                                                     [key], {});\n",
              "          if (!dataTable) return;\n",
              "\n",
              "          const docLinkHtml = 'Like what you see? Visit the ' +\n",
              "            '<a target=\"_blank\" href=https://colab.research.google.com/notebooks/data_table.ipynb>data table notebook</a>'\n",
              "            + ' to learn more about interactive tables.';\n",
              "          element.innerHTML = '';\n",
              "          dataTable['output_type'] = 'display_data';\n",
              "          await google.colab.output.renderOutput(dataTable, element);\n",
              "          const docLink = document.createElement('div');\n",
              "          docLink.innerHTML = docLinkHtml;\n",
              "          element.appendChild(docLink);\n",
              "        }\n",
              "      </script>\n",
              "    </div>\n",
              "  </div>\n",
              "  "
            ]
          },
          "metadata": {},
          "execution_count": 61
        }
      ]
    },
    {
      "cell_type": "code",
      "source": [
        "image_width = 25\n",
        "image_height = 25"
      ],
      "metadata": {
        "id": "JCbYkzi603HU"
      },
      "execution_count": null,
      "outputs": []
    },
    {
      "cell_type": "code",
      "source": [
        "X_train = df_X_train.to_numpy()\n",
        "X_val = df_X_val.to_numpy()\n",
        "X_test = df_X_test.to_numpy()"
      ],
      "metadata": {
        "id": "FdLMVVJt09nN"
      },
      "execution_count": null,
      "outputs": []
    },
    {
      "cell_type": "code",
      "source": [
        "y_train = df_y_train.to_numpy()\n",
        "y_val = df_y_val.to_numpy()\n",
        "y_test = df_y_test.to_numpy()"
      ],
      "metadata": {
        "id": "UTFsFZaK0-NM"
      },
      "execution_count": null,
      "outputs": []
    },
    {
      "cell_type": "code",
      "source": [
        "y_train"
      ],
      "metadata": {
        "colab": {
          "base_uri": "https://localhost:8080/"
        },
        "id": "vQDAiXJJ1AIk",
        "outputId": "3589f34e-ceef-4eec-e3ad-ee8f748f838b"
      },
      "execution_count": null,
      "outputs": [
        {
          "output_type": "execute_result",
          "data": {
            "text/plain": [
              "array([[0],\n",
              "       [7],\n",
              "       [9],\n",
              "       ...,\n",
              "       [0],\n",
              "       [8],\n",
              "       [9]])"
            ]
          },
          "metadata": {},
          "execution_count": 65
        }
      ]
    },
    {
      "cell_type": "code",
      "source": [
        "print(f'X_train.shape :{X_train.shape}')\n",
        "print(f'X_train.ndim :{X_train.ndim}')\n",
        "print(f'X_train.size :{X_train.size}')"
      ],
      "metadata": {
        "colab": {
          "base_uri": "https://localhost:8080/"
        },
        "id": "PwUbntIy1Bgk",
        "outputId": "d4605c60-c556-4d33-c508-0329d27feb87"
      },
      "execution_count": null,
      "outputs": [
        {
          "output_type": "stream",
          "name": "stdout",
          "text": [
            "X_train.shape :(6985, 1)\n",
            "X_train.ndim :2\n",
            "X_train.size :6985\n"
          ]
        }
      ]
    },
    {
      "cell_type": "code",
      "source": [
        "print(f'y_train.shape :{y_train.shape}')\n",
        "print(f'y_train.ndim :{y_train.ndim}')\n",
        "print(f'y_train.size :{y_train.size}')"
      ],
      "metadata": {
        "colab": {
          "base_uri": "https://localhost:8080/"
        },
        "id": "moPZ4j3Y1C2l",
        "outputId": "99cccddb-47d6-41a3-c170-a4049948edca"
      },
      "execution_count": null,
      "outputs": [
        {
          "output_type": "stream",
          "name": "stdout",
          "text": [
            "y_train.shape :(6985, 1)\n",
            "y_train.ndim :2\n",
            "y_train.size :6985\n"
          ]
        }
      ]
    },
    {
      "cell_type": "code",
      "source": [
        "def str_to_numpy_array(arr) :\n",
        "  for i in range(arr.size):\n",
        "    a = np.fromstring((arr[i][0]).replace('[', ' ').replace(']', ' '), dtype=int, sep=' ')\n",
        "    b = a.reshape(image_width,image_height)\n",
        "    arr[i][0] = b\n",
        "\n",
        "  return arr"
      ],
      "metadata": {
        "id": "_xWVr0jV1EjT"
      },
      "execution_count": null,
      "outputs": []
    },
    {
      "cell_type": "code",
      "source": [
        "X_train = str_to_numpy_array(X_train)\n",
        "X_val = str_to_numpy_array(X_val)\n",
        "X_test = str_to_numpy_array(X_test)"
      ],
      "metadata": {
        "id": "FSsXDgBI1G-d"
      },
      "execution_count": null,
      "outputs": []
    },
    {
      "cell_type": "code",
      "source": [
        "plt.imshow(X_train[500][0], cmap=\"gray\")"
      ],
      "metadata": {
        "colab": {
          "base_uri": "https://localhost:8080/",
          "height": 282
        },
        "id": "Vco9tdTF1Iv-",
        "outputId": "568cc150-6449-44fd-b41d-2b7a1b60e0d0"
      },
      "execution_count": null,
      "outputs": [
        {
          "output_type": "execute_result",
          "data": {
            "text/plain": [
              "<matplotlib.image.AxesImage at 0x7fd4cfca3290>"
            ]
          },
          "metadata": {},
          "execution_count": 70
        },
        {
          "output_type": "display_data",
          "data": {
            "text/plain": [
              "<Figure size 432x288 with 1 Axes>"
            ],
            "image/png": "[encoded data removed]"
          },
          "metadata": {
            "needs_background": "light"
          }
        }
      ]
    },
    {
      "cell_type": "code",
      "source": [
        "X_train = X_train/255\n",
        "X_val = X_val/255\n",
        "X_test = X_val/255"
      ],
      "metadata": {
        "id": "M4THhHeF1Kk7"
      },
      "execution_count": null,
      "outputs": []
    },
    {
      "cell_type": "code",
      "source": [
        "X_train[:1]"
      ],
      "metadata": {
        "colab": {
          "base_uri": "https://localhost:8080/"
        },
        "id": "oxAOhoYU1MBN",
        "outputId": "3eadfc4e-fe0d-4e9a-950f-fd961797d708"
      },
      "execution_count": null,
      "outputs": [
        {
          "output_type": "execute_result",
          "data": {
            "text/plain": [
              "array([[array([[0.        , 0.        , 0.        , 0.        , 0.        ,\n",
              "                0.01568627, 0.        , 0.        , 0.        , 0.01960784,\n",
              "                0.        , 0.        , 0.        , 0.        , 0.        ,\n",
              "                0.        , 0.        , 0.        , 0.        , 0.        ,\n",
              "                0.        , 0.        , 0.        , 0.00392157, 0.        ],\n",
              "               [0.00392157, 0.02745098, 0.04705882, 0.03529412, 0.03529412,\n",
              "                0.10980392, 0.05490196, 0.05490196, 0.05098039, 0.12156863,\n",
              "                0.04313725, 0.03921569, 0.05098039, 0.03137255, 0.01568627,\n",
              "                0.05098039, 0.03529412, 0.04313725, 0.03921569, 0.05098039,\n",
              "                0.03529412, 0.04705882, 0.03529412, 0.07843137, 0.03921569],\n",
              "               [0.        , 0.01568627, 0.00784314, 0.01568627, 0.02352941,\n",
              "                0.10588235, 0.03529412, 0.01176471, 0.03921569, 0.10980392,\n",
              "                0.01568627, 0.01176471, 0.01960784, 0.00784314, 0.01176471,\n",
              "                0.02352941, 0.01568627, 0.02745098, 0.03137255, 0.02745098,\n",
              "                0.01568627, 0.01568627, 0.00784314, 0.04705882, 0.03529412],\n",
              "               [0.        , 0.03921569, 0.03137255, 0.04313725, 0.04313725,\n",
              "                0.07843137, 0.05098039, 0.04705882, 0.04705882, 0.10588235,\n",
              "                0.02352941, 0.03529412, 0.02745098, 0.01176471, 0.04705882,\n",
              "                0.04705882, 0.01176471, 0.04313725, 0.05098039, 0.03529412,\n",
              "                0.03137255, 0.04313725, 0.03921569, 0.0745098 , 0.05098039],\n",
              "               [0.00392157, 0.09019608, 0.07843137, 0.09803922, 0.08627451,\n",
              "                0.1372549 , 0.10980392, 0.09411765, 0.09803922, 0.16078431,\n",
              "                0.0745098 , 0.09019608, 0.09411765, 0.07843137, 0.09803922,\n",
              "                0.0745098 , 0.08235294, 0.08627451, 0.10588235, 0.09019608,\n",
              "                0.08235294, 0.09411765, 0.09411765, 0.10588235, 0.09411765],\n",
              "               [0.00784314, 0.1372549 , 0.14117647, 0.11372549, 0.10980392,\n",
              "                0.14117647, 0.12156863, 0.10588235, 0.14117647, 0.17647059,\n",
              "                0.12941176, 0.09803922, 0.1372549 , 0.12156863, 0.11764706,\n",
              "                0.08235294, 0.14901961, 0.12156863, 0.14901961, 0.13333333,\n",
              "                0.11764706, 0.1372549 , 0.11764706, 0.13333333, 0.11764706],\n",
              "               [0.01568627, 0.15294118, 0.17254902, 0.18039216, 0.14901961,\n",
              "                0.19607843, 0.17254902, 0.14509804, 0.16470588, 0.21960784,\n",
              "                0.15686275, 0.16862745, 0.16078431, 0.17254902, 0.16078431,\n",
              "                0.14509804, 0.16470588, 0.16470588, 0.15686275, 0.15686275,\n",
              "                0.16078431, 0.14901961, 0.16862745, 0.14901961, 0.14509804],\n",
              "               [0.02352941, 0.18039216, 0.2       , 0.21568627, 0.18039216,\n",
              "                0.22352941, 0.22352941, 0.23137255, 0.2       , 0.25490196,\n",
              "                0.20784314, 0.19215686, 0.21176471, 0.18823529, 0.20392157,\n",
              "                0.22352941, 0.21176471, 0.21960784, 0.20784314, 0.21568627,\n",
              "                0.19215686, 0.20392157, 0.21568627, 0.21960784, 0.2       ],\n",
              "               [0.05882353, 0.24313725, 0.24313725, 0.24313725, 0.23921569,\n",
              "                0.25882353, 0.23137255, 0.21960784, 0.25098039, 0.29411765,\n",
              "                0.21176471, 0.22352941, 0.22352941, 0.23529412, 0.24313725,\n",
              "                0.24313725, 0.24313725, 0.21568627, 0.23137255, 0.21960784,\n",
              "                0.25490196, 0.23529412, 0.23137255, 0.23529412, 0.22352941],\n",
              "               [0.03529412, 0.25098039, 0.21960784, 0.2627451 , 0.2       ,\n",
              "                0.24313725, 0.22745098, 0.25098039, 0.27843137, 0.30588235,\n",
              "                0.25098039, 0.27058824, 0.25882353, 0.24313725, 0.24313725,\n",
              "                0.25882353, 0.23529412, 0.22352941, 0.25490196, 0.25882353,\n",
              "                0.22745098, 0.26666667, 0.27058824, 0.25490196, 0.28235294],\n",
              "               [0.0745098 , 0.23921569, 0.21960784, 0.20392157, 0.23529412,\n",
              "                0.26666667, 0.24705882, 0.23921569, 0.24313725, 0.29019608,\n",
              "                0.23921569, 0.23137255, 0.23921569, 0.22352941, 0.24313725,\n",
              "                0.21568627, 0.23921569, 0.21176471, 0.25490196, 0.24313725,\n",
              "                0.23529412, 0.21176471, 0.23529412, 0.23137255, 0.25098039],\n",
              "               [0.03137255, 0.24313725, 0.24313725, 0.24313725, 0.24313725,\n",
              "                0.27843137, 0.27843137, 0.20784314, 0.27058824, 0.32156863,\n",
              "                0.31372549, 0.28627451, 0.29411765, 0.23137255, 0.25882353,\n",
              "                0.23137255, 0.23921569, 0.24313725, 0.23921569, 0.22745098,\n",
              "                0.25882353, 0.24705882, 0.24313725, 0.23921569, 0.29803922],\n",
              "               [0.03921569, 0.24705882, 0.21960784, 0.25490196, 0.25098039,\n",
              "                0.25098039, 0.23529412, 0.2745098 , 0.2745098 , 0.39215686,\n",
              "                0.25098039, 0.25490196, 0.24313725, 0.22745098, 0.25882353,\n",
              "                0.24313725, 0.25490196, 0.24313725, 0.23137255, 0.25882353,\n",
              "                0.24705882, 0.23921569, 0.2745098 , 0.25882353, 0.23529412],\n",
              "               [0.03137255, 0.27058824, 0.22745098, 0.2627451 , 0.24705882,\n",
              "                0.2627451 , 0.23921569, 0.2627451 , 0.24705882, 0.27843137,\n",
              "                0.27843137, 0.23137255, 0.2627451 , 0.25098039, 0.25882353,\n",
              "                0.23921569, 0.25490196, 0.23529412, 0.24313725, 0.23921569,\n",
              "                0.2627451 , 0.27058824, 0.26666667, 0.25882353, 0.23921569],\n",
              "               [0.01960784, 0.25490196, 0.23921569, 0.20392157, 0.22352941,\n",
              "                0.24705882, 0.28627451, 0.25490196, 0.24313725, 0.28627451,\n",
              "                0.23921569, 0.25098039, 0.23921569, 0.2627451 , 0.21960784,\n",
              "                0.2745098 , 0.24313725, 0.2       , 0.21568627, 0.26666667,\n",
              "                0.27058824, 0.23921569, 0.23137255, 0.25490196, 0.22352941],\n",
              "               [0.05882353, 0.27058824, 0.23921569, 0.25882353, 0.22745098,\n",
              "                0.25882353, 0.22352941, 0.25882353, 0.25098039, 0.28627451,\n",
              "                0.2627451 , 0.25882353, 0.22352941, 0.21960784, 0.23529412,\n",
              "                0.21176471, 0.22352941, 0.2745098 , 0.25882353, 0.25098039,\n",
              "                0.27058824, 0.24313725, 0.21568627, 0.21960784, 0.24313725],\n",
              "               [0.03529412, 0.2627451 , 0.2745098 , 0.19215686, 0.25098039,\n",
              "                0.28627451, 0.26666667, 0.23137255, 0.24313725, 0.2627451 ,\n",
              "                0.23529412, 0.21960784, 0.23921569, 0.23921569, 0.22352941,\n",
              "                0.23137255, 0.19215686, 0.28235294, 0.2627451 , 0.21960784,\n",
              "                0.27058824, 0.23137255, 0.25882353, 0.24705882, 0.26666667],\n",
              "               [0.09803922, 0.20392157, 0.22352941, 0.21960784, 0.22745098,\n",
              "                0.26666667, 0.28627451, 0.21960784, 0.24313725, 0.21176471,\n",
              "                0.17647059, 0.21568627, 0.23137255, 0.23529412, 0.24313725,\n",
              "                0.25490196, 0.19215686, 0.25882353, 0.2627451 , 0.23529412,\n",
              "                0.2627451 , 0.27843137, 0.23529412, 0.28235294, 0.24313725],\n",
              "               [0.07843137, 0.19215686, 0.16862745, 0.17647059, 0.22352941,\n",
              "                0.21568627, 0.20392157, 0.22352941, 0.21176471, 0.23921569,\n",
              "                0.19215686, 0.22352941, 0.20392157, 0.20392157, 0.19607843,\n",
              "                0.20392157, 0.19215686, 0.19215686, 0.18039216, 0.20392157,\n",
              "                0.17254902, 0.19215686, 0.17254902, 0.18039216, 0.18823529],\n",
              "               [0.01960784, 0.2       , 0.19215686, 0.14117647, 0.19215686,\n",
              "                0.21960784, 0.21568627, 0.17254902, 0.19607843, 0.18823529,\n",
              "                0.18823529, 0.16862745, 0.19215686, 0.19215686, 0.19607843,\n",
              "                0.19215686, 0.16862745, 0.2       , 0.18431373, 0.1372549 ,\n",
              "                0.19215686, 0.17254902, 0.19215686, 0.19215686, 0.17254902],\n",
              "               [0.0745098 , 0.20392157, 0.21960784, 0.21568627, 0.23137255,\n",
              "                0.23137255, 0.18823529, 0.23921569, 0.21176471, 0.2       ,\n",
              "                0.23137255, 0.18823529, 0.23137255, 0.21960784, 0.25098039,\n",
              "                0.24313725, 0.18431373, 0.2       , 0.21176471, 0.21568627,\n",
              "                0.21176471, 0.21568627, 0.21960784, 0.21176471, 0.21176471],\n",
              "               [0.10588235, 0.2       , 0.2627451 , 0.29411765, 0.24313725,\n",
              "                0.27058824, 0.20784314, 0.25490196, 0.23137255, 0.28235294,\n",
              "                0.25490196, 0.21176471, 0.22352941, 0.21960784, 0.26666667,\n",
              "                0.23921569, 0.23529412, 0.24313725, 0.21176471, 0.24705882,\n",
              "                0.2       , 0.27843137, 0.22352941, 0.23529412, 0.27058824],\n",
              "               [0.03921569, 0.21960784, 0.25882353, 0.25490196, 0.27058824,\n",
              "                0.25882353, 0.20392157, 0.2       , 0.25490196, 0.27843137,\n",
              "                0.21568627, 0.23529412, 0.27058824, 0.2745098 , 0.28627451,\n",
              "                0.23529412, 0.2627451 , 0.23921569, 0.24313725, 0.2745098 ,\n",
              "                0.25882353, 0.26666667, 0.22745098, 0.24705882, 0.2745098 ],\n",
              "               [0.14509804, 0.34117647, 0.31372549, 0.25490196, 0.30588235,\n",
              "                0.28235294, 0.2745098 , 0.3372549 , 0.24313725, 0.3254902 ,\n",
              "                0.32156863, 0.2745098 , 0.23921569, 0.31372549, 0.2745098 ,\n",
              "                0.30588235, 0.37647059, 0.33333333, 0.25882353, 0.28627451,\n",
              "                0.25098039, 0.2745098 , 0.2745098 , 0.29411765, 0.28627451],\n",
              "               [0.08627451, 0.3372549 , 0.3254902 , 0.35686275, 0.37647059,\n",
              "                0.3254902 , 0.31372549, 0.3254902 , 0.33333333, 0.28235294,\n",
              "                0.36862745, 0.32156863, 0.36078431, 0.35686275, 0.38039216,\n",
              "                0.32156863, 0.29803922, 0.35686275, 0.28235294, 0.32156863,\n",
              "                0.37647059, 0.37254902, 0.39215686, 0.34509804, 0.37647059]])]],\n",
              "      dtype=object)"
            ]
          },
          "metadata": {},
          "execution_count": 72
        }
      ]
    },
    {
      "cell_type": "code",
      "source": [
        "print(f'X_train.shape :{X_train.shape}')\n",
        "print(f'X_train.ndim :{X_train.ndim}')\n",
        "print(f'X_train.size :{X_train.size}')"
      ],
      "metadata": {
        "colab": {
          "base_uri": "https://localhost:8080/"
        },
        "id": "XlFBhcZZ1Nne",
        "outputId": "8e6fbf27-e2f8-4dcf-c27f-d73bb285308f"
      },
      "execution_count": null,
      "outputs": [
        {
          "output_type": "stream",
          "name": "stdout",
          "text": [
            "X_train.shape :(6985, 1)\n",
            "X_train.ndim :2\n",
            "X_train.size :6985\n"
          ]
        }
      ]
    },
    {
      "cell_type": "code",
      "source": [
        "import matplotlib.pyplot as plt\n",
        "import pandas as pd\n",
        "import os\n",
        "import librosa\n",
        "import numpy as np\n",
        "\n",
        "from tqdm import tqdm"
      ],
      "metadata": {
        "id": "9npoTYHG1Scs"
      },
      "execution_count": null,
      "outputs": []
    },
    {
      "cell_type": "code",
      "source": [
        "import pandas as pd\n",
        "import numpy as np\n",
        "import os\n",
        "import tensorflow as tf\n",
        "import cv2\n",
        "from tensorflow import keras\n",
        "from tensorflow.keras.layers import Dense, Input, InputLayer, Flatten\n",
        "from tensorflow.keras.models import Sequential, Model\n",
        "from  matplotlib import pyplot as plt\n",
        "import matplotlib.image as mpimg\n",
        "%matplotlib inline"
      ],
      "metadata": {
        "id": "Uth9hbLA1Tr1"
      },
      "execution_count": null,
      "outputs": []
    },
    {
      "cell_type": "code",
      "source": [
        "from sklearn import metrics\n",
        "from tensorflow.keras.callbacks import ModelCheckpoint\n",
        "from datetime import datetime"
      ],
      "metadata": {
        "id": "73Q-iDSS1VGX"
      },
      "execution_count": null,
      "outputs": []
    },
    {
      "cell_type": "code",
      "source": [
        "target_dict={k: v for v, k in enumerate(np.unique(labels))}\n",
        "target_dict"
      ],
      "metadata": {
        "colab": {
          "base_uri": "https://localhost:8080/"
        },
        "id": "OEBSGkQa1XPl",
        "outputId": "7ccf4ead-80fc-482e-aa45-688c4eb145ee"
      },
      "execution_count": null,
      "outputs": [
        {
          "output_type": "execute_result",
          "data": {
            "text/plain": [
              "{0: 0, 1: 1, 2: 2, 3: 3, 4: 4, 5: 5, 6: 6, 7: 7, 8: 8, 9: 9}"
            ]
          },
          "metadata": {},
          "execution_count": 77
        }
      ]
    },
    {
      "cell_type": "code",
      "source": [
        "df = df[df['images']!='/content/New_File/airs.Thumbs.db']\n",
        "df = df[df['images']!='/content/New_File/cars.Thumbs.db']\n",
        "df = df[df['images']!='/content/New_File/chil.Thumbs.db']\n",
        "df = df[df['images']!='/content/New_File/dogs.Thumbs.db']\n",
        "df = df[df['images']!='/content/New_File/dril.Thumbs.db']\n",
        "df = df[df['images']!='/content/New_File/engi.Thumbs.db']\n",
        "df = df[df['images']!='/content/New_File/guns.Thumbs.db']\n",
        "df = df[df['images']!='/content/New_File/jack.Thumbs.db']\n",
        "df = df[df['images']!='/content/New_File/sire.Thumbs.db']\n",
        "df = df[df['images']!='/content/New_File/stre.Thumbs.db']\n",
        "\n",
        "df.drop(df[df.images.isin(sil_air_conditionerss)].index.tolist(), inplace=True)\n",
        "df.drop(df[df.images.isin(sil_car_hornss)].index.tolist(), inplace=True)\n",
        "df.drop(df[df.images.isin(sil_children_playingss)].index.tolist(), inplace=True)\n",
        "df.drop(df[df.images.isin(sil_dog_barkss)].index.tolist(), inplace=True)\n",
        "df.drop(df[df.images.isin(sil_drillingss)].index.tolist(), inplace=True)\n",
        "df.drop(df[df.images.isin(sil_engine_idlingss)].index.tolist(), inplace=True)\n",
        "df.drop(df[df.images.isin(sil_gun_shotss)].index.tolist(), inplace=True)\n",
        "df.drop(df[df.images.isin(sil_jackhammerss)].index.tolist(), inplace=True)\n",
        "df.drop(df[df.images.isin(sil_sirenss)].index.tolist(), inplace=True)\n",
        "df.drop(df[df.images.isin(sil_street_musicss)].index.tolist(), inplace=True)"
      ],
      "metadata": {
        "id": "Ky-Tls1g1Y2s"
      },
      "execution_count": null,
      "outputs": []
    },
    {
      "cell_type": "code",
      "source": [
        "df.shape"
      ],
      "metadata": {
        "colab": {
          "base_uri": "https://localhost:8080/"
        },
        "id": "7aoBGWBf1bJF",
        "outputId": "1a561599-182c-4fb9-c187-9eeb28a873c3"
      },
      "execution_count": null,
      "outputs": [
        {
          "output_type": "execute_result",
          "data": {
            "text/plain": [
              "(8732, 2)"
            ]
          },
          "metadata": {},
          "execution_count": 79
        }
      ]
    },
    {
      "cell_type": "code",
      "source": [
        "import seaborn as sns\n",
        "sns.countplot(df['label'])"
      ],
      "metadata": {
        "colab": {
          "base_uri": "https://localhost:8080/",
          "height": 296
        },
        "id": "1yK0qyJM1ckl",
        "outputId": "d6aab80a-e63c-41be-cffc-32a808bbf6a2"
      },
      "execution_count": null,
      "outputs": [
        {
          "output_type": "execute_result",
          "data": {
            "text/plain": [
              "<matplotlib.axes._subplots.AxesSubplot at 0x7fd4c859e190>"
            ]
          },
          "metadata": {},
          "execution_count": 80
        },
        {
          "output_type": "display_data",
          "data": {
            "text/plain": [
              "<Figure size 432x288 with 1 Axes>"
            ],
            "image/png": "[encoded data removed]"
          },
          "metadata": {
            "needs_background": "light"
          }
        }
      ]
    },
    {
      "cell_type": "code",
      "source": [
        "df['label'] = df['label'].astype('str')\n",
        "df.head(10)"
      ],
      "metadata": {
        "colab": {
          "base_uri": "https://localhost:8080/",
          "height": 363
        },
        "id": "Zhl2l-dU1eNd",
        "outputId": "6480aed5-e80c-439d-a348-06cf1dbab5c8"
      },
      "execution_count": null,
      "outputs": [
        {
          "output_type": "execute_result",
          "data": {
            "text/plain": [
              "                                     images label\n",
              "0   /content/New_File/chil.155280-2-0-3.png     2\n",
              "1    /content/New_File/dogs.29936-3-1-0.png     3\n",
              "2   /content/New_File/airs.202517-0-0-0.png     0\n",
              "3   /content/New_File/sire.164053-8-2-2.png     8\n",
              "4  /content/New_File/dril.104817-4-0-11.png     4\n",
              "5     /content/New_File/cars.7389-1-4-9.png     1\n",
              "6  /content/New_File/airs.147926-0-0-35.png     0\n",
              "7  /content/New_File/dril.180127-4-0-17.png     4\n",
              "8   /content/New_File/sire.159753-8-0-5.png     8\n",
              "9   /content/New_File/guns.148833-6-0-0.png     6"
            ],
            "text/html": [
              "\n",
              "  <div id=\"df-6af4d208-13d5-4b78-929b-855e9e9ffa1d\">\n",
              "    <div class=\"colab-df-container\">\n",
              "      <div>\n",
              "<style scoped>\n",
              "    .dataframe tbody tr th:only-of-type {\n",
              "        vertical-align: middle;\n",
              "    }\n",
              "\n",
              "    .dataframe tbody tr th {\n",
              "        vertical-align: top;\n",
              "    }\n",
              "\n",
              "    .dataframe thead th {\n",
              "        text-align: right;\n",
              "    }\n",
              "</style>\n",
              "<table border=\"1\" class=\"dataframe\">\n",
              "  <thead>\n",
              "    <tr style=\"text-align: right;\">\n",
              "      <th></th>\n",
              "      <th>images</th>\n",
              "      <th>label</th>\n",
              "    </tr>\n",
              "  </thead>\n",
              "  <tbody>\n",
              "    <tr>\n",
              "      <th>0</th>\n",
              "      <td>/content/New_File/chil.155280-2-0-3.png</td>\n",
              "      <td>2</td>\n",
              "    </tr>\n",
              "    <tr>\n",
              "      <th>1</th>\n",
              "      <td>/content/New_File/dogs.29936-3-1-0.png</td>\n",
              "      <td>3</td>\n",
              "    </tr>\n",
              "    <tr>\n",
              "      <th>2</th>\n",
              "      <td>/content/New_File/airs.202517-0-0-0.png</td>\n",
              "      <td>0</td>\n",
              "    </tr>\n",
              "    <tr>\n",
              "      <th>3</th>\n",
              "      <td>/content/New_File/sire.164053-8-2-2.png</td>\n",
              "      <td>8</td>\n",
              "    </tr>\n",
              "    <tr>\n",
              "      <th>4</th>\n",
              "      <td>/content/New_File/dril.104817-4-0-11.png</td>\n",
              "      <td>4</td>\n",
              "    </tr>\n",
              "    <tr>\n",
              "      <th>5</th>\n",
              "      <td>/content/New_File/cars.7389-1-4-9.png</td>\n",
              "      <td>1</td>\n",
              "    </tr>\n",
              "    <tr>\n",
              "      <th>6</th>\n",
              "      <td>/content/New_File/airs.147926-0-0-35.png</td>\n",
              "      <td>0</td>\n",
              "    </tr>\n",
              "    <tr>\n",
              "      <th>7</th>\n",
              "      <td>/content/New_File/dril.180127-4-0-17.png</td>\n",
              "      <td>4</td>\n",
              "    </tr>\n",
              "    <tr>\n",
              "      <th>8</th>\n",
              "      <td>/content/New_File/sire.159753-8-0-5.png</td>\n",
              "      <td>8</td>\n",
              "    </tr>\n",
              "    <tr>\n",
              "      <th>9</th>\n",
              "      <td>/content/New_File/guns.148833-6-0-0.png</td>\n",
              "      <td>6</td>\n",
              "    </tr>\n",
              "  </tbody>\n",
              "</table>\n",
              "</div>\n",
              "      <button class=\"colab-df-convert\" onclick=\"convertToInteractive('df-6af4d208-13d5-4b78-929b-855e9e9ffa1d')\"\n",
              "              title=\"Convert this dataframe to an interactive table.\"\n",
              "              style=\"display:none;\">\n",
              "        \n",
              "  <svg xmlns=\"http://www.w3.org/2000/svg\" height=\"24px\"viewBox=\"0 0 24 24\"\n",
              "       width=\"24px\">\n",
              "    <path d=\"M0 0h24v24H0V0z\" fill=\"none\"/>\n",
              "    <path d=\"M18.56 5.44l.94 2.06.94-2.06 2.06-.94-2.06-.94-.94-2.06-.94 2.06-2.06.94zm-11 1L8.5 8.5l.94-2.06 2.06-.94-2.06-.94L8.5 2.5l-.94 2.06-2.06.94zm10 10l.94 2.06.94-2.06 2.06-.94-2.06-.94-.94-2.06-.94 2.06-2.06.94z\"/><path d=\"M17.41 7.96l-1.37-1.37c-.4-.4-.92-.59-1.43-.59-.52 0-1.04.2-1.43.59L10.3 9.45l-7.72 7.72c-.78.78-.78 2.05 0 2.83L4 21.41c.39.39.9.59 1.41.59.51 0 1.02-.2 1.41-.59l7.78-7.78 2.81-2.81c.8-.78.8-2.07 0-2.86zM5.41 20L4 18.59l7.72-7.72 1.47 1.35L5.41 20z\"/>\n",
              "  </svg>\n",
              "      </button>\n",
              "      \n",
              "  <style>\n",
              "    .colab-df-container {\n",
              "      display:flex;\n",
              "      flex-wrap:wrap;\n",
              "      gap: 12px;\n",
              "    }\n",
              "\n",
              "    .colab-df-convert {\n",
              "      background-color: #E8F0FE;\n",
              "      border: none;\n",
              "      border-radius: 50%;\n",
              "      cursor: pointer;\n",
              "      display: none;\n",
              "      fill: #1967D2;\n",
              "      height: 32px;\n",
              "      padding: 0 0 0 0;\n",
              "      width: 32px;\n",
              "    }\n",
              "\n",
              "    .colab-df-convert:hover {\n",
              "      background-color: #E2EBFA;\n",
              "      box-shadow: 0px 1px 2px rgba(60, 64, 67, 0.3), 0px 1px 3px 1px rgba(60, 64, 67, 0.15);\n",
              "      fill: #174EA6;\n",
              "    }\n",
              "\n",
              "    [theme=dark] .colab-df-convert {\n",
              "      background-color: #3B4455;\n",
              "      fill: #D2E3FC;\n",
              "    }\n",
              "\n",
              "    [theme=dark] .colab-df-convert:hover {\n",
              "      background-color: #434B5C;\n",
              "      box-shadow: 0px 1px 3px 1px rgba(0, 0, 0, 0.15);\n",
              "      filter: drop-shadow(0px 1px 2px rgba(0, 0, 0, 0.3));\n",
              "      fill: #FFFFFF;\n",
              "    }\n",
              "  </style>\n",
              "\n",
              "      <script>\n",
              "        const buttonEl =\n",
              "          document.querySelector('#df-6af4d208-13d5-4b78-929b-855e9e9ffa1d button.colab-df-convert');\n",
              "        buttonEl.style.display =\n",
              "          google.colab.kernel.accessAllowed ? 'block' : 'none';\n",
              "\n",
              "        async function convertToInteractive(key) {\n",
              "          const element = document.querySelector('#df-6af4d208-13d5-4b78-929b-855e9e9ffa1d');\n",
              "          const dataTable =\n",
              "            await google.colab.kernel.invokeFunction('convertToInteractive',\n",
              "                                                     [key], {});\n",
              "          if (!dataTable) return;\n",
              "\n",
              "          const docLinkHtml = 'Like what you see? Visit the ' +\n",
              "            '<a target=\"_blank\" href=https://colab.research.google.com/notebooks/data_table.ipynb>data table notebook</a>'\n",
              "            + ' to learn more about interactive tables.';\n",
              "          element.innerHTML = '';\n",
              "          dataTable['output_type'] = 'display_data';\n",
              "          await google.colab.output.renderOutput(dataTable, element);\n",
              "          const docLink = document.createElement('div');\n",
              "          docLink.innerHTML = docLinkHtml;\n",
              "          element.appendChild(docLink);\n",
              "        }\n",
              "      </script>\n",
              "    </div>\n",
              "  </div>\n",
              "  "
            ]
          },
          "metadata": {},
          "execution_count": 81
        }
      ]
    },
    {
      "cell_type": "code",
      "source": [
        "from sklearn.model_selection import train_test_split\n",
        "train, test = train_test_split(df, test_size=0.2, random_state=42)"
      ],
      "metadata": {
        "id": "tVybepTm1hOk"
      },
      "execution_count": null,
      "outputs": []
    },
    {
      "cell_type": "code",
      "source": [
        "# Normalizasyon adımları\n",
        "from keras.preprocessing.image import ImageDataGenerator\n",
        "\n",
        "train_generator = ImageDataGenerator(\n",
        "    rescale = 1./255,  # görsellerin normalize edilmesi\n",
        "    rotation_range = 40, \n",
        "    shear_range = 0.2,\n",
        "    zoom_range = 0.2,\n",
        "    horizontal_flip = True,\n",
        "    fill_mode = 'nearest'\n",
        ")\n",
        "\n",
        "val_generator = ImageDataGenerator(rescale = 1./255)\n",
        "\n",
        "train_iterator = train_generator.flow_from_dataframe(\n",
        "    train,x_col='images',\n",
        "    y_col='label',\n",
        "    target_size=(128,128),\n",
        "    batch_size=512,\n",
        "    class_mode='categorical'\n",
        ")\n",
        "\n",
        "val_iterator = val_generator.flow_from_dataframe(\n",
        "    test,x_col='images',\n",
        "    y_col='label',\n",
        "    target_size=(128,128),\n",
        "    batch_size=512,\n",
        "    class_mode='categorical'\n",
        ")"
      ],
      "metadata": {
        "colab": {
          "base_uri": "https://localhost:8080/"
        },
        "id": "9J7AQV211i7W",
        "outputId": "584d01f7-cf0b-409c-b46d-218e058608b1"
      },
      "execution_count": null,
      "outputs": [
        {
          "output_type": "stream",
          "name": "stdout",
          "text": [
            "Found 6985 validated image filenames belonging to 10 classes.\n",
            "Found 1747 validated image filenames belonging to 10 classes.\n"
          ]
        }
      ]
    },
    {
      "cell_type": "code",
      "source": [
        "from keras import Sequential\n",
        "from keras.layers import Conv2D, MaxPool2D, Flatten, Dense\n",
        "\n",
        "model = Sequential([\n",
        "            Conv2D(16, (3,3), activation='relu', input_shape=(128,128,3)),\n",
        "            MaxPool2D((2,2)),\n",
        "            Conv2D(32, (3,3), activation='relu'),\n",
        "            MaxPool2D((2,2)),\n",
        "            Conv2D(64, (3,3), activation='relu'),\n",
        "            MaxPool2D((2,2)),\n",
        "            Flatten(),\n",
        "            Dense(512, activation='relu'),\n",
        "            Dense(1, activation='sigmoid')\n",
        "])"
      ],
      "metadata": {
        "id": "WKYWROzO1mIU"
      },
      "execution_count": null,
      "outputs": []
    },
    {
      "cell_type": "code",
      "source": [
        "model.compile(optimizer='adam', loss='binary_crossentropy', metrics=['accuracy'])\n",
        "model.summary()"
      ],
      "metadata": {
        "colab": {
          "base_uri": "https://localhost:8080/"
        },
        "id": "czDW6ErG1pRV",
        "outputId": "29e242c2-8daf-4a9b-83c0-726b8d4f76ef"
      },
      "execution_count": null,
      "outputs": [
        {
          "output_type": "stream",
          "name": "stdout",
          "text": [
            "Model: \"sequential\"\n",
            "_________________________________________________________________\n",
            " Layer (type)                Output Shape              Param #   \n",
            "=================================================================\n",
            " conv2d (Conv2D)             (None, 126, 126, 16)      448       \n",
            "                                                                 \n",
            " max_pooling2d (MaxPooling2D  (None, 63, 63, 16)       0         \n",
            " )                                                               \n",
            "                                                                 \n",
            " conv2d_1 (Conv2D)           (None, 61, 61, 32)        4640      \n",
            "                                                                 \n",
            " max_pooling2d_1 (MaxPooling  (None, 30, 30, 32)       0         \n",
            " 2D)                                                             \n",
            "                                                                 \n",
            " conv2d_2 (Conv2D)           (None, 28, 28, 64)        18496     \n",
            "                                                                 \n",
            " max_pooling2d_2 (MaxPooling  (None, 14, 14, 64)       0         \n",
            " 2D)                                                             \n",
            "                                                                 \n",
            " flatten (Flatten)           (None, 12544)             0         \n",
            "                                                                 \n",
            " dense (Dense)               (None, 512)               6423040   \n",
            "                                                                 \n",
            " dense_1 (Dense)             (None, 1)                 513       \n",
            "                                                                 \n",
            "=================================================================\n",
            "Total params: 6,447,137\n",
            "Trainable params: 6,447,137\n",
            "Non-trainable params: 0\n",
            "_________________________________________________________________\n"
          ]
        }
      ]
    },
    {
      "cell_type": "code",
      "source": [
        "history = model.fit(train_iterator, epochs=10, validation_data=val_iterator)"
      ],
      "metadata": {
        "colab": {
          "base_uri": "https://localhost:8080/"
        },
        "id": "LdsAOHEz1tSU",
        "outputId": "c0c75c81-816a-4af0-bbaf-c2994aa04fbf"
      },
      "execution_count": null,
      "outputs": [
        {
          "output_type": "stream",
          "name": "stdout",
          "text": [
            "Epoch 1/10\n",
            "14/14 [==============================] - 44s 2s/step - loss: 0.3940 - accuracy: 0.8683 - val_loss: 0.3375 - val_accuracy: 0.9000\n",
            "Epoch 2/10\n",
            "14/14 [==============================] - 31s 2s/step - loss: 0.3317 - accuracy: 0.9000 - val_loss: 0.3275 - val_accuracy: 0.9000\n",
            "Epoch 3/10\n",
            "14/14 [==============================] - 31s 2s/step - loss: 0.3268 - accuracy: 0.9000 - val_loss: 0.3258 - val_accuracy: 0.9000\n",
            "Epoch 4/10\n",
            "14/14 [==============================] - 34s 2s/step - loss: 0.3256 - accuracy: 0.9000 - val_loss: 0.3255 - val_accuracy: 0.9000\n",
            "Epoch 5/10\n",
            "14/14 [==============================] - 32s 2s/step - loss: 0.3253 - accuracy: 0.9000 - val_loss: 0.3254 - val_accuracy: 0.9000\n",
            "Epoch 6/10\n",
            "14/14 [==============================] - 31s 2s/step - loss: 0.3252 - accuracy: 0.9000 - val_loss: 0.3253 - val_accuracy: 0.9000\n",
            "Epoch 7/10\n",
            "14/14 [==============================] - 31s 2s/step - loss: 0.3252 - accuracy: 0.9000 - val_loss: 0.3253 - val_accuracy: 0.9000\n",
            "Epoch 8/10\n",
            "14/14 [==============================] - 32s 2s/step - loss: 0.3252 - accuracy: 0.9000 - val_loss: 0.3253 - val_accuracy: 0.9000\n",
            "Epoch 9/10\n",
            "14/14 [==============================] - 33s 2s/step - loss: 0.3252 - accuracy: 0.9000 - val_loss: 0.3252 - val_accuracy: 0.9000\n",
            "Epoch 10/10\n",
            "14/14 [==============================] - 31s 2s/step - loss: 0.3252 - accuracy: 0.9000 - val_loss: 0.3252 - val_accuracy: 0.9000\n"
          ]
        }
      ]
    },
    {
      "cell_type": "code",
      "source": [
        "acc = history.history['accuracy']\n",
        "val_acc = history.history['val_accuracy']\n",
        "epochs = range(len(acc))\n",
        "\n",
        "plt.plot(epochs, acc, 'g', label='Training Accuracy')\n",
        "plt.plot(epochs, val_acc, 'y', label='Validation Accuracy')\n",
        "plt.title('Accuracy Graph')\n",
        "plt.legend()\n",
        "plt.figure()\n",
        "\n",
        "loss = history.history['loss']\n",
        "val_loss = history.history['val_loss']\n",
        "plt.plot(epochs, loss, 'g', label='Training Loss')\n",
        "plt.plot(epochs, val_loss, 'y', label='Validation Loss')\n",
        "plt.title('Loss Graph')\n",
        "plt.legend()\n",
        "plt.show()"
      ],
      "metadata": {
        "colab": {
          "base_uri": "https://localhost:8080/",
          "height": 545
        },
        "id": "KvzVaaUv3M_s",
        "outputId": "af79629c-c1e1-437f-efee-facc3d78b8c8"
      },
      "execution_count": null,
      "outputs": [
        {
          "output_type": "display_data",
          "data": {
            "text/plain": [
              "<Figure size 432x288 with 1 Axes>"
            ],
            "image/png": "[encoded data removed]"
          },
          "metadata": {
            "needs_background": "light"
          }
        },
        {
          "output_type": "display_data",
          "data": {
            "text/plain": [
              "<Figure size 432x288 with 1 Axes>"
            ],
            "image/png": "[encoded data removed]"
          },
          "metadata": {
            "needs_background": "light"
          }
        }
      ]
    },
    {
      "cell_type": "code",
      "source": [
        "!pip install keras-tuner  #hyperparameter optimization"
      ],
      "metadata": {
        "colab": {
          "base_uri": "https://localhost:8080/"
        },
        "id": "2N6BBQSJ3xL8",
        "outputId": "aa4e329d-fb2f-4d24-8e9a-1460f8a2323e"
      },
      "execution_count": null,
      "outputs": [
        {
          "output_type": "stream",
          "name": "stdout",
          "text": [
            "Looking in indexes: https://pypi.org/simple, https://us-python.pkg.dev/colab-wheels/public/simple/\n",
            "Collecting keras-tuner\n",
            "  Downloading keras_tuner-1.1.3-py3-none-any.whl (135 kB)\n",
            "\u001b[K     |████████████████████████████████| 135 kB 30.6 MB/s \n",
            "\u001b[?25hRequirement already satisfied: numpy in /usr/local/lib/python3.7/dist-packages (from keras-tuner) (1.21.6)\n",
            "Requirement already satisfied: ipython in /usr/local/lib/python3.7/dist-packages (from keras-tuner) (7.9.0)\n",
            "Requirement already satisfied: requests in /usr/local/lib/python3.7/dist-packages (from keras-tuner) (2.23.0)\n",
            "Requirement already satisfied: packaging in /usr/local/lib/python3.7/dist-packages (from keras-tuner) (21.3)\n",
            "Collecting kt-legacy\n",
            "  Downloading kt_legacy-1.0.4-py3-none-any.whl (9.6 kB)\n",
            "Requirement already satisfied: tensorboard in /usr/local/lib/python3.7/dist-packages (from keras-tuner) (2.8.0)\n",
            "Requirement already satisfied: pexpect in /usr/local/lib/python3.7/dist-packages (from ipython->keras-tuner) (4.8.0)\n",
            "Requirement already satisfied: prompt-toolkit<2.1.0,>=2.0.0 in /usr/local/lib/python3.7/dist-packages (from ipython->keras-tuner) (2.0.10)\n",
            "Requirement already satisfied: pygments in /usr/local/lib/python3.7/dist-packages (from ipython->keras-tuner) (2.6.1)\n",
            "Requirement already satisfied: backcall in /usr/local/lib/python3.7/dist-packages (from ipython->keras-tuner) (0.2.0)\n",
            "Collecting jedi>=0.10\n",
            "  Downloading jedi-0.18.1-py2.py3-none-any.whl (1.6 MB)\n",
            "\u001b[K     |████████████████████████████████| 1.6 MB 46.1 MB/s \n",
            "\u001b[?25hRequirement already satisfied: setuptools>=18.5 in /usr/local/lib/python3.7/dist-packages (from ipython->keras-tuner) (57.4.0)\n",
            "Requirement already satisfied: pickleshare in /usr/local/lib/python3.7/dist-packages (from ipython->keras-tuner) (0.7.5)\n",
            "Requirement already satisfied: traitlets>=4.2 in /usr/local/lib/python3.7/dist-packages (from ipython->keras-tuner) (5.1.1)\n",
            "Requirement already satisfied: decorator in /usr/local/lib/python3.7/dist-packages (from ipython->keras-tuner) (4.4.2)\n",
            "Requirement already satisfied: parso<0.9.0,>=0.8.0 in /usr/local/lib/python3.7/dist-packages (from jedi>=0.10->ipython->keras-tuner) (0.8.3)\n",
            "Requirement already satisfied: six>=1.9.0 in /usr/local/lib/python3.7/dist-packages (from prompt-toolkit<2.1.0,>=2.0.0->ipython->keras-tuner) (1.15.0)\n",
            "Requirement already satisfied: wcwidth in /usr/local/lib/python3.7/dist-packages (from prompt-toolkit<2.1.0,>=2.0.0->ipython->keras-tuner) (0.2.5)\n",
            "Requirement already satisfied: pyparsing!=3.0.5,>=2.0.2 in /usr/local/lib/python3.7/dist-packages (from packaging->keras-tuner) (3.0.9)\n",
            "Requirement already satisfied: ptyprocess>=0.5 in /usr/local/lib/python3.7/dist-packages (from pexpect->ipython->keras-tuner) (0.7.0)\n",
            "Requirement already satisfied: urllib3!=1.25.0,!=1.25.1,<1.26,>=1.21.1 in /usr/local/lib/python3.7/dist-packages (from requests->keras-tuner) (1.24.3)\n",
            "Requirement already satisfied: certifi>=2017.4.17 in /usr/local/lib/python3.7/dist-packages (from requests->keras-tuner) (2022.6.15)\n",
            "Requirement already satisfied: idna<3,>=2.5 in /usr/local/lib/python3.7/dist-packages (from requests->keras-tuner) (2.10)\n",
            "Requirement already satisfied: chardet<4,>=3.0.2 in /usr/local/lib/python3.7/dist-packages (from requests->keras-tuner) (3.0.4)\n",
            "Requirement already satisfied: grpcio>=1.24.3 in /usr/local/lib/python3.7/dist-packages (from tensorboard->keras-tuner) (1.48.1)\n",
            "Requirement already satisfied: wheel>=0.26 in /usr/local/lib/python3.7/dist-packages (from tensorboard->keras-tuner) (0.37.1)\n",
            "Requirement already satisfied: markdown>=2.6.8 in /usr/local/lib/python3.7/dist-packages (from tensorboard->keras-tuner) (3.4.1)\n",
            "Requirement already satisfied: absl-py>=0.4 in /usr/local/lib/python3.7/dist-packages (from tensorboard->keras-tuner) (1.2.0)\n",
            "Requirement already satisfied: tensorboard-data-server<0.7.0,>=0.6.0 in /usr/local/lib/python3.7/dist-packages (from tensorboard->keras-tuner) (0.6.1)\n",
            "Requirement already satisfied: protobuf>=3.6.0 in /usr/local/lib/python3.7/dist-packages (from tensorboard->keras-tuner) (3.17.3)\n",
            "Requirement already satisfied: tensorboard-plugin-wit>=1.6.0 in /usr/local/lib/python3.7/dist-packages (from tensorboard->keras-tuner) (1.8.1)\n",
            "Requirement already satisfied: werkzeug>=0.11.15 in /usr/local/lib/python3.7/dist-packages (from tensorboard->keras-tuner) (1.0.1)\n",
            "Requirement already satisfied: google-auth-oauthlib<0.5,>=0.4.1 in /usr/local/lib/python3.7/dist-packages (from tensorboard->keras-tuner) (0.4.6)\n",
            "Requirement already satisfied: google-auth<3,>=1.6.3 in /usr/local/lib/python3.7/dist-packages (from tensorboard->keras-tuner) (1.35.0)\n",
            "Requirement already satisfied: cachetools<5.0,>=2.0.0 in /usr/local/lib/python3.7/dist-packages (from google-auth<3,>=1.6.3->tensorboard->keras-tuner) (4.2.4)\n",
            "Requirement already satisfied: pyasn1-modules>=0.2.1 in /usr/local/lib/python3.7/dist-packages (from google-auth<3,>=1.6.3->tensorboard->keras-tuner) (0.2.8)\n",
            "Requirement already satisfied: rsa<5,>=3.1.4 in /usr/local/lib/python3.7/dist-packages (from google-auth<3,>=1.6.3->tensorboard->keras-tuner) (4.9)\n",
            "Requirement already satisfied: requests-oauthlib>=0.7.0 in /usr/local/lib/python3.7/dist-packages (from google-auth-oauthlib<0.5,>=0.4.1->tensorboard->keras-tuner) (1.3.1)\n",
            "Requirement already satisfied: importlib-metadata>=4.4 in /usr/local/lib/python3.7/dist-packages (from markdown>=2.6.8->tensorboard->keras-tuner) (4.12.0)\n",
            "Requirement already satisfied: typing-extensions>=3.6.4 in /usr/local/lib/python3.7/dist-packages (from importlib-metadata>=4.4->markdown>=2.6.8->tensorboard->keras-tuner) (4.1.1)\n",
            "Requirement already satisfied: zipp>=0.5 in /usr/local/lib/python3.7/dist-packages (from importlib-metadata>=4.4->markdown>=2.6.8->tensorboard->keras-tuner) (3.8.1)\n",
            "Requirement already satisfied: pyasn1<0.5.0,>=0.4.6 in /usr/local/lib/python3.7/dist-packages (from pyasn1-modules>=0.2.1->google-auth<3,>=1.6.3->tensorboard->keras-tuner) (0.4.8)\n",
            "Requirement already satisfied: oauthlib>=3.0.0 in /usr/local/lib/python3.7/dist-packages (from requests-oauthlib>=0.7.0->google-auth-oauthlib<0.5,>=0.4.1->tensorboard->keras-tuner) (3.2.0)\n",
            "Installing collected packages: jedi, kt-legacy, keras-tuner\n",
            "Successfully installed jedi-0.18.1 keras-tuner-1.1.3 kt-legacy-1.0.4\n"
          ]
        }
      ]
    },
    {
      "cell_type": "code",
      "source": [
        "import tensorflow as tf\n",
        "from tensorflow import keras\n",
        "import numpy as np"
      ],
      "metadata": {
        "id": "rCGEOY8s3zzm"
      },
      "execution_count": null,
      "outputs": []
    },
    {
      "cell_type": "code",
      "source": [
        "print(tf.__version__)"
      ],
      "metadata": {
        "colab": {
          "base_uri": "https://localhost:8080/"
        },
        "id": "chuDjp9U325b",
        "outputId": "5c0eaaa2-26cd-4a5d-f51d-8c759894d6e8"
      },
      "execution_count": null,
      "outputs": [
        {
          "output_type": "stream",
          "name": "stdout",
          "text": [
            "2.8.2\n"
          ]
        }
      ]
    },
    {
      "cell_type": "code",
      "source": [
        "fashion_mnist=keras.datasets.fashion_mnist"
      ],
      "metadata": {
        "id": "RLUwIl_s34sI"
      },
      "execution_count": null,
      "outputs": []
    },
    {
      "cell_type": "code",
      "source": [
        "(train_images,train_labels),(test_images,test_labels)=fashion_mnist.load_data()"
      ],
      "metadata": {
        "colab": {
          "base_uri": "https://localhost:8080/"
        },
        "id": "AGSAQhVQ35qV",
        "outputId": "73021061-ae12-4af4-becb-a7bd9d08b901"
      },
      "execution_count": null,
      "outputs": [
        {
          "output_type": "stream",
          "name": "stdout",
          "text": [
            "Downloading data from https://storage.googleapis.com/tensorflow/tf-keras-datasets/train-labels-idx1-ubyte.gz\n",
            "32768/29515 [=================================] - 0s 0us/step\n",
            "40960/29515 [=========================================] - 0s 0us/step\n",
            "Downloading data from https://storage.googleapis.com/tensorflow/tf-keras-datasets/train-images-idx3-ubyte.gz\n",
            "26427392/26421880 [==============================] - 0s 0us/step\n",
            "26435584/26421880 [==============================] - 0s 0us/step\n",
            "Downloading data from https://storage.googleapis.com/tensorflow/tf-keras-datasets/t10k-labels-idx1-ubyte.gz\n",
            "16384/5148 [===============================================================================================] - 0s 0us/step\n",
            "Downloading data from https://storage.googleapis.com/tensorflow/tf-keras-datasets/t10k-images-idx3-ubyte.gz\n",
            "4423680/4422102 [==============================] - 0s 0us/step\n",
            "4431872/4422102 [==============================] - 0s 0us/step\n"
          ]
        }
      ]
    },
    {
      "cell_type": "code",
      "source": [
        "train_images=train_images/255.0\n",
        "test_images=test_images/255.0"
      ],
      "metadata": {
        "id": "7oE1_hMm38SP"
      },
      "execution_count": null,
      "outputs": []
    },
    {
      "cell_type": "code",
      "source": [
        "train_images[0].shape"
      ],
      "metadata": {
        "colab": {
          "base_uri": "https://localhost:8080/"
        },
        "id": "EO3cEsZa3-Ye",
        "outputId": "7e6f5620-c2c1-456b-c4df-ece304ac781c"
      },
      "execution_count": null,
      "outputs": [
        {
          "output_type": "execute_result",
          "data": {
            "text/plain": [
              "(28, 28)"
            ]
          },
          "metadata": {},
          "execution_count": 98
        }
      ]
    },
    {
      "cell_type": "code",
      "source": [
        "train_images=train_images.reshape(len(train_images),28,28,1)\n",
        "test_images=test_images.reshape(len(test_images),28,28,1)"
      ],
      "metadata": {
        "id": "IiR68pVw3_7H"
      },
      "execution_count": null,
      "outputs": []
    },
    {
      "cell_type": "code",
      "source": [
        "def build_model(hp):  \n",
        "  model = keras.Sequential([\n",
        "    keras.layers.Conv2D(\n",
        "        filters=hp.Int('conv_1_filter', min_value=32, max_value=128, step=16),\n",
        "        kernel_size=hp.Choice('conv_1_kernel', values = [3,5]),\n",
        "        activation='relu',\n",
        "        input_shape=(28,28,1)\n",
        "    ),\n",
        "    keras.layers.Conv2D(\n",
        "        filters=hp.Int('conv_2_filter', min_value=32, max_value=64, step=16),\n",
        "        kernel_size=hp.Choice('conv_2_kernel', values = [3,5]),\n",
        "        activation='relu'\n",
        "    ),\n",
        "    keras.layers.Flatten(),\n",
        "    keras.layers.Dense(\n",
        "        units=hp.Int('dense_1_units', min_value=32, max_value=128, step=16),\n",
        "        activation='relu'\n",
        "    ),\n",
        "    keras.layers.Dense(10, activation='softmax')\n",
        "  ])\n",
        "  \n",
        "  model.compile(optimizer=keras.optimizers.Adam(hp.Choice('learning_rate', values=[1e-2, 1e-3])),\n",
        "              loss='sparse_categorical_crossentropy',\n",
        "              metrics=['accuracy'])\n",
        "  \n",
        "  return model"
      ],
      "metadata": {
        "id": "Mtk9MZ0n4B9s"
      },
      "execution_count": null,
      "outputs": []
    },
    {
      "cell_type": "code",
      "source": [
        "from kerastuner import RandomSearch\n",
        "from kerastuner.engine.hyperparameters import HyperParameters"
      ],
      "metadata": {
        "id": "1SL_X6vy4Hsc"
      },
      "execution_count": null,
      "outputs": []
    },
    {
      "cell_type": "code",
      "source": [
        "tuner_search=RandomSearch(build_model,\n",
        "                          objective='val_accuracy',\n",
        "                          max_trials=5,directory='output',project_name=\"Mnist Fashion\")"
      ],
      "metadata": {
        "id": "gqKsUoPA4JTM"
      },
      "execution_count": null,
      "outputs": []
    },
    {
      "cell_type": "code",
      "source": [
        "tuner_search.search(train_images,train_labels,epochs=3,validation_split=0.1)"
      ],
      "metadata": {
        "colab": {
          "base_uri": "https://localhost:8080/"
        },
        "id": "Vj8uAsLM4KJk",
        "outputId": "dc2249d1-7175-411e-a4bd-364d9dcb2d62"
      },
      "execution_count": null,
      "outputs": [
        {
          "output_type": "stream",
          "name": "stdout",
          "text": [
            "Trial 5 Complete [00h 00m 42s]\n",
            "val_accuracy: 0.9116666913032532\n",
            "\n",
            "Best val_accuracy So Far: 0.9158333539962769\n",
            "Total elapsed time: 00h 02m 41s\n"
          ]
        }
      ]
    },
    {
      "cell_type": "code",
      "source": [
        "model=tuner_search.get_best_models(num_models=1)[0]"
      ],
      "metadata": {
        "id": "zbpstGJj433j"
      },
      "execution_count": null,
      "outputs": []
    },
    {
      "cell_type": "code",
      "source": [
        "model.summary()"
      ],
      "metadata": {
        "colab": {
          "base_uri": "https://localhost:8080/"
        },
        "id": "E3rtvJ1Q46nM",
        "outputId": "efc4e4b0-a863-43a3-9c66-a0b2fe30e612"
      },
      "execution_count": null,
      "outputs": [
        {
          "output_type": "stream",
          "name": "stdout",
          "text": [
            "Model: \"sequential\"\n",
            "_________________________________________________________________\n",
            " Layer (type)                Output Shape              Param #   \n",
            "=================================================================\n",
            " conv2d (Conv2D)             (None, 26, 26, 80)        800       \n",
            "                                                                 \n",
            " conv2d_1 (Conv2D)           (None, 22, 22, 48)        96048     \n",
            "                                                                 \n",
            " flatten (Flatten)           (None, 23232)             0         \n",
            "                                                                 \n",
            " dense (Dense)               (None, 128)               2973824   \n",
            "                                                                 \n",
            " dense_1 (Dense)             (None, 10)                1290      \n",
            "                                                                 \n",
            "=================================================================\n",
            "Total params: 3,071,962\n",
            "Trainable params: 3,071,962\n",
            "Non-trainable params: 0\n",
            "_________________________________________________________________\n"
          ]
        }
      ]
    },
    {
      "cell_type": "code",
      "source": [
        "model.fit(train_images, train_labels, epochs=10, validation_split=0.1, initial_epoch=3)"
      ],
      "metadata": {
        "colab": {
          "base_uri": "https://localhost:8080/"
        },
        "id": "iiX7ci9G49gE",
        "outputId": "13f34138-d243-40f9-eeed-d872c1d30de7"
      },
      "execution_count": null,
      "outputs": [
        {
          "output_type": "stream",
          "name": "stdout",
          "text": [
            "Epoch 4/10\n",
            "1688/1688 [==============================] - 9s 5ms/step - loss: 0.1269 - accuracy: 0.9530 - val_loss: 0.2744 - val_accuracy: 0.9115\n",
            "Epoch 5/10\n",
            "1688/1688 [==============================] - 9s 5ms/step - loss: 0.0907 - accuracy: 0.9658 - val_loss: 0.2964 - val_accuracy: 0.9153\n",
            "Epoch 6/10\n",
            "1688/1688 [==============================] - 9s 5ms/step - loss: 0.0621 - accuracy: 0.9770 - val_loss: 0.3471 - val_accuracy: 0.9112\n",
            "Epoch 7/10\n",
            "1688/1688 [==============================] - 9s 5ms/step - loss: 0.0450 - accuracy: 0.9831 - val_loss: 0.3946 - val_accuracy: 0.9122\n",
            "Epoch 8/10\n",
            "1688/1688 [==============================] - 9s 5ms/step - loss: 0.0345 - accuracy: 0.9876 - val_loss: 0.4373 - val_accuracy: 0.9145\n",
            "Epoch 9/10\n",
            "1688/1688 [==============================] - 9s 5ms/step - loss: 0.0266 - accuracy: 0.9909 - val_loss: 0.4747 - val_accuracy: 0.9075\n",
            "Epoch 10/10\n",
            "1688/1688 [==============================] - 9s 5ms/step - loss: 0.0239 - accuracy: 0.9915 - val_loss: 0.5525 - val_accuracy: 0.9087\n"
          ]
        },
        {
          "output_type": "execute_result",
          "data": {
            "text/plain": [
              "<keras.callbacks.History at 0x7fd4363cd250>"
            ]
          },
          "metadata": {},
          "execution_count": 106
        }
      ]
    },
    {
      "cell_type": "code",
      "source": [
        "mnist = tf.keras.datasets.mnist\n",
        "\n",
        "(x_train, y_train), (x_test, y_test) = mnist.load_data()\n",
        "x_traing, x_test = x_train/255.0, x_test/255.0\n",
        "print(\"x_train.shape:\",x_train.shape)"
      ],
      "metadata": {
        "colab": {
          "base_uri": "https://localhost:8080/"
        },
        "id": "6UzGKjTm5XLD",
        "outputId": "24fcc1b5-3289-4307-db48-0e563efc17b4"
      },
      "execution_count": null,
      "outputs": [
        {
          "output_type": "stream",
          "name": "stdout",
          "text": [
            "Downloading data from https://storage.googleapis.com/tensorflow/tf-keras-datasets/mnist.npz\n",
            "11493376/11490434 [==============================] - 0s 0us/step\n",
            "11501568/11490434 [==============================] - 0s 0us/step\n",
            "x_train.shape: (60000, 28, 28)\n"
          ]
        }
      ]
    },
    {
      "cell_type": "code",
      "source": [
        "from keras.layers.core.activation import activations\n",
        "from tensorflow import keras\n",
        "from tensorflow.keras import layers\n",
        "from kerastuner.tuners import RandomSearch\n",
        "\n",
        "def build_model(hp):\n",
        "  model = keras.Sequential()\n",
        "  model.add(layers.Flatten(input_shape=(28,28)))\n",
        "\n",
        "  model.add(layers.Dense(units=hp.Int(\"units\",\n",
        "                                      min_value=32,\n",
        "                                      max_value=512,\n",
        "                                      step=128),\n",
        "                         activation=\"relu\"))\n",
        "  model.add(layers.Dense(10, activation=\"softmax\"))\n",
        "  model.compile(\n",
        "      optimizer=keras.optimizers.Adam(\n",
        "          hp.Choice(\"learning_rate\",\n",
        "                    values=[1e-2,1e-4])),\n",
        "  loss=\"sparse_categorical_crossentropy\",\n",
        "  metrics=[\"accuracy\"])\n",
        "\n",
        "  return model\n",
        "                \n",
        "      \n",
        "  "
      ],
      "metadata": {
        "id": "R50uGUd2599c"
      },
      "execution_count": null,
      "outputs": []
    },
    {
      "cell_type": "code",
      "source": [
        "tuner =RandomSearch(\n",
        "    build_model,\n",
        "    objective=\"val_accuracy\",\n",
        "    max_trials=5,\n",
        "    executions_per_trial=3,\n",
        "    directory=\"my_dir\",\n",
        "    project_name=\"Classification\")"
      ],
      "metadata": {
        "id": "0f75Ooje7QpS"
      },
      "execution_count": null,
      "outputs": []
    },
    {
      "cell_type": "code",
      "source": [
        "tuner.search_space_summary()"
      ],
      "metadata": {
        "colab": {
          "base_uri": "https://localhost:8080/"
        },
        "id": "9X53pVAi8Ak0",
        "outputId": "6762d64c-10fb-49fe-ab39-bb99e2d88f16"
      },
      "execution_count": null,
      "outputs": [
        {
          "output_type": "stream",
          "name": "stdout",
          "text": [
            "Search space summary\n",
            "Default search space size: 2\n",
            "units (Int)\n",
            "{'default': None, 'conditions': [], 'min_value': 32, 'max_value': 512, 'step': 128, 'sampling': None}\n",
            "learning_rate (Choice)\n",
            "{'default': 0.01, 'conditions': [], 'values': [0.01, 0.0001], 'ordered': True}\n"
          ]
        }
      ]
    },
    {
      "cell_type": "code",
      "source": [
        "tuner.search(x_train,y_train,\n",
        "             epochs=10,\n",
        "             validation_data=(x_test,y_test))"
      ],
      "metadata": {
        "colab": {
          "base_uri": "https://localhost:8080/"
        },
        "id": "muzZ98rs8Eoi",
        "outputId": "7d321f95-0aa9-4b89-dc88-dc392736394c"
      },
      "execution_count": null,
      "outputs": [
        {
          "output_type": "stream",
          "name": "stdout",
          "text": [
            "Trial 5 Complete [00h 03m 37s]\n",
            "val_accuracy: 0.9523333509763082\n",
            "\n",
            "Best val_accuracy So Far: 0.9677333235740662\n",
            "Total elapsed time: 00h 17m 29s\n"
          ]
        }
      ]
    },
    {
      "cell_type": "code",
      "source": [
        "tuner.results_summary()"
      ],
      "metadata": {
        "colab": {
          "base_uri": "https://localhost:8080/"
        },
        "id": "Kfoa4Y2hAdMW",
        "outputId": "7c3ca28f-d261-4892-a001-0ae4c40d4840"
      },
      "execution_count": null,
      "outputs": [
        {
          "output_type": "stream",
          "name": "stdout",
          "text": [
            "Results summary\n",
            "Results in my_dir/Classification\n",
            "Showing 10 best trials\n",
            "<keras_tuner.engine.objective.Objective object at 0x7fd3ccb19dd0>\n",
            "Trial summary\n",
            "Hyperparameters:\n",
            "units: 416\n",
            "learning_rate: 0.0001\n",
            "Score: 0.9677333235740662\n",
            "Trial summary\n",
            "Hyperparameters:\n",
            "units: 160\n",
            "learning_rate: 0.0001\n",
            "Score: 0.9523333509763082\n",
            "Trial summary\n",
            "Hyperparameters:\n",
            "units: 416\n",
            "learning_rate: 0.01\n",
            "Score: 0.2441666622956594\n",
            "Trial summary\n",
            "Hyperparameters:\n",
            "units: 32\n",
            "learning_rate: 0.01\n",
            "Score: 0.17390000323454538\n",
            "Trial summary\n",
            "Hyperparameters:\n",
            "units: 32\n",
            "learning_rate: 0.0001\n",
            "Score: 0.13769999891519547\n"
          ]
        }
      ]
    }
  ]
}