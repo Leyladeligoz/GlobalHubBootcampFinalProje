{
  "nbformat": 4,
  "nbformat_minor": 0,
  "metadata": {
    "colab": {
      "provenance": [],
      "collapsed_sections": [],
      "authorship_tag": "ABX9TyPzeDBRb9994jDpIjY0Q5/o",
      "include_colab_link": true
    },
    "kernelspec": {
      "name": "python3",
      "display_name": "Python 3"
    },
    "language_info": {
      "name": "python"
    },
    "accelerator": "GPU"
  },
  "cells": [
    {
      "cell_type": "markdown",
      "metadata": {
        "id": "view-in-github",
        "colab_type": "text"
      },
      "source": [
        "<a href=\"https://colab.research.google.com/github/Leyladeligoz/GlobalHubBootcampFinalProje/blob/main/VeriOnisleme.ipynb\" target=\"_parent\"><img src=\"https://colab.research.google.com/assets/colab-badge.svg\" alt=\"Open In Colab\"/></a>"
      ]
    },
    {
      "cell_type": "code",
      "execution_count": null,
      "metadata": {
        "colab": {
          "base_uri": "https://localhost:8080/"
        },
        "id": "qveKrO_GQkeq",
        "outputId": "8d1e359c-b583-4a71-f373-d400042c25b5"
      },
      "outputs": [
        {
          "output_type": "stream",
          "name": "stdout",
          "text": [
            "Mounted at /content/drive\n"
          ]
        }
      ],
      "source": [
        "from google.colab import drive\n",
        "drive.mount('/content/drive')"
      ]
    },
    {
      "cell_type": "code",
      "source": [
        "import os \n",
        "for dirpath, dirnames, filenames in os.walk(\"/content/drive/MyDrive/goruntu\"):\n",
        "  print(f\"There are {len(dirnames)} directories and {len(filenames)} images in {dirpath}\")"
      ],
      "metadata": {
        "colab": {
          "base_uri": "https://localhost:8080/"
        },
        "id": "_chdnSovQ2pZ",
        "outputId": "c6a4ef6f-51c4-428b-ec7e-c89ec13da80a"
      },
      "execution_count": null,
      "outputs": [
        {
          "output_type": "stream",
          "name": "stdout",
          "text": [
            "There are 11 directories and 0 images in /content/drive/MyDrive/goruntu\n",
            "There are 1 directories and 0 images in /content/drive/MyDrive/goruntu/4-20220929T182908Z-001\n",
            "There are 0 directories and 1000 images in /content/drive/MyDrive/goruntu/4-20220929T182908Z-001/4\n",
            "There are 1 directories and 0 images in /content/drive/MyDrive/goruntu/3-20220929T182907Z-001\n",
            "There are 0 directories and 1000 images in /content/drive/MyDrive/goruntu/3-20220929T182907Z-001/3\n",
            "There are 1 directories and 0 images in /content/drive/MyDrive/goruntu/0-20220929T161921Z-001\n",
            "There are 0 directories and 1000 images in /content/drive/MyDrive/goruntu/0-20220929T161921Z-001/0\n",
            "There are 1 directories and 0 images in /content/drive/MyDrive/goruntu/7-20220929T182916Z-001\n",
            "There are 0 directories and 1000 images in /content/drive/MyDrive/goruntu/7-20220929T182916Z-001/7\n",
            "There are 1 directories and 0 images in /content/drive/MyDrive/goruntu/8-20220929T182917Z-001\n",
            "There are 0 directories and 929 images in /content/drive/MyDrive/goruntu/8-20220929T182917Z-001/8\n",
            "There are 1 directories and 0 images in /content/drive/MyDrive/goruntu/9-20220929T182919Z-001\n",
            "There are 0 directories and 1000 images in /content/drive/MyDrive/goruntu/9-20220929T182919Z-001/9\n",
            "There are 1 directories and 0 images in /content/drive/MyDrive/goruntu/1-20220929T180135Z-001\n",
            "There are 0 directories and 429 images in /content/drive/MyDrive/goruntu/1-20220929T180135Z-001/1\n",
            "There are 1 directories and 0 images in /content/drive/MyDrive/goruntu/6-20220929T182914Z-001\n",
            "There are 0 directories and 374 images in /content/drive/MyDrive/goruntu/6-20220929T182914Z-001/6\n",
            "There are 1 directories and 0 images in /content/drive/MyDrive/goruntu/5-20220929T182912Z-001\n",
            "There are 0 directories and 1000 images in /content/drive/MyDrive/goruntu/5-20220929T182912Z-001/5\n",
            "There are 0 directories and 1000 images in /content/drive/MyDrive/goruntu/2\n",
            "There are 0 directories and 0 images in /content/drive/MyDrive/goruntu/.ipynb_checkpoints\n"
          ]
        }
      ]
    },
    {
      "cell_type": "code",
      "source": [
        "groups = len(os.listdir(\"/content/drive/MyDrive/goruntu\"))\n",
        "groups"
      ],
      "metadata": {
        "colab": {
          "base_uri": "https://localhost:8080/"
        },
        "id": "5-TK7CNURRjZ",
        "outputId": "65f97804-ebc8-4f5e-c387-08e80619e527"
      },
      "execution_count": null,
      "outputs": [
        {
          "output_type": "execute_result",
          "data": {
            "text/plain": [
              "11"
            ]
          },
          "metadata": {},
          "execution_count": 4
        }
      ]
    },
    {
      "cell_type": "code",
      "source": [
        "import pathlib \n",
        "import numpy as np\n",
        "\n",
        "data_dir = pathlib.Path(\"/content/drive/MyDrive/goruntu\")\n",
        "class_names = np.array(sorted([item.name for item in data_dir.glob(\"*\")]))  \n",
        "print(class_names)"
      ],
      "metadata": {
        "colab": {
          "base_uri": "https://localhost:8080/"
        },
        "id": "I-g6c-fQRUXI",
        "outputId": "6dfdbef2-f3cd-4017-93c3-5d8a4c926851"
      },
      "execution_count": null,
      "outputs": [
        {
          "output_type": "stream",
          "name": "stdout",
          "text": [
            "['.ipynb_checkpoints' '0-20220929T161921Z-001' '1-20220929T180135Z-001'\n",
            " '2' '3-20220929T182907Z-001' '4-20220929T182908Z-001'\n",
            " '5-20220929T182912Z-001' '6-20220929T182914Z-001'\n",
            " '7-20220929T182916Z-001' '8-20220929T182917Z-001'\n",
            " '9-20220929T182919Z-001']\n"
          ]
        }
      ]
    },
    {
      "cell_type": "code",
      "source": [
        "import matplotlib.pyplot as plt\n",
        "import matplotlib.image as mpimg\n",
        "import random\n",
        "\n",
        "def view_random_image(target_dir, target_class):\n",
        "  target_folder = target_dir + target_class\n",
        "\n",
        " \n",
        "  random_image = random.sample(os.listdir(target_folder), 1)\n",
        "\n",
        "  \n",
        "  img = mpimg.imread(target_folder + \"/\" + random_image[0] )\n",
        "  plt.imshow(img)\n",
        "  plt.title(target_class)\n",
        "  plt.axis(\"off\")\n",
        "\n",
        "  print(f\"Image shape: {img.shape}\")\n",
        "  \n",
        "  return img"
      ],
      "metadata": {
        "id": "kZgRLSz8RWGR"
      },
      "execution_count": null,
      "outputs": []
    },
    {
      "cell_type": "code",
      "source": [
        "img = view_random_image(target_dir = \"/content/drive/MyDrive/goruntu/\",\n",
        "                        target_class = \"2\") "
      ],
      "metadata": {
        "colab": {
          "base_uri": "https://localhost:8080/",
          "height": 281
        },
        "id": "5WyQfq_SRX15",
        "outputId": "97482cfd-54bf-4f91-921b-5111b8a3a424"
      },
      "execution_count": null,
      "outputs": [
        {
          "output_type": "stream",
          "name": "stdout",
          "text": [
            "Image shape: (374, 500, 4)\n"
          ]
        },
        {
          "output_type": "display_data",
          "data": {
            "text/plain": [
              "<Figure size 432x288 with 1 Axes>"
            ],
            "image/png": "[encoded data removed]"
          },
          "metadata": {
            "needs_background": "light"
          }
        }
      ]
    },
    {
      "cell_type": "code",
      "source": [
        "import tensorflow as tf\n",
        "img.shape"
      ],
      "metadata": {
        "colab": {
          "base_uri": "https://localhost:8080/"
        },
        "id": "YS-2SbRfRaLh",
        "outputId": "41c794c1-ba4b-469e-91f9-41648773f8c0"
      },
      "execution_count": null,
      "outputs": [
        {
          "output_type": "execute_result",
          "data": {
            "text/plain": [
              "(374, 500, 4)"
            ]
          },
          "metadata": {},
          "execution_count": 8
        }
      ]
    },
    {
      "cell_type": "code",
      "source": [
        "plt.figure(figsize = (15,7))\n",
        "plt.subplot(1,3,1)\n",
        "steak_image = view_random_image(\"/content/drive/MyDrive/goruntu/\", \"3-20220929T182907Z-001/3\")\n",
        "plt.subplot(1,3,2)\n",
        "pizza_image = view_random_image(\"/content/drive/MyDrive/goruntu/\", \"4-20220929T182908Z-001/4\")\n",
        "plt.subplot(1,3,3)\n",
        "pizza_image = view_random_image(\"/content/drive/MyDrive/goruntu/\", \"8-20220929T182917Z-001/8\")"
      ],
      "metadata": {
        "colab": {
          "base_uri": "https://localhost:8080/",
          "height": 283
        },
        "id": "7UnRQGL8Rcla",
        "outputId": "b4e631bb-e01c-4fad-f518-b7b72dae6e2e"
      },
      "execution_count": null,
      "outputs": [
        {
          "output_type": "stream",
          "name": "stdout",
          "text": [
            "Image shape: (374, 500, 4)\n",
            "Image shape: (374, 500, 4)\n",
            "Image shape: (374, 500, 4)\n"
          ]
        },
        {
          "output_type": "display_data",
          "data": {
            "text/plain": [
              "<Figure size 1080x504 with 3 Axes>"
            ],
            "image/png": "[encoded data removed]"
          },
          "metadata": {
            "needs_background": "light"
          }
        }
      ]
    },
    {
      "cell_type": "code",
      "source": [
        "# Import TensorFlow\n",
        "import tensorflow as tf\n",
        "\n",
        "# Import Numpy ,Pandas and Matplotlib\n",
        "import numpy as np\n",
        "import pandas as pd\n",
        "import matplotlib.pyplot as plt\n",
        "\n",
        "# import openCV\n",
        "import cv2\n",
        "\n",
        "# Import Label Encoder and train_test_split\n",
        "from sklearn.preprocessing import LabelEncoder,minmax_scale\n",
        "from sklearn.model_selection import train_test_split"
      ],
      "metadata": {
        "id": "LUZEXb0mRe6p"
      },
      "execution_count": null,
      "outputs": []
    },
    {
      "cell_type": "code",
      "source": [
        "data_frame = pd.read_csv(\"/content/drive/MyDrive/UrbanSound8K/metadata/UrbanSound8K.csv\")"
      ],
      "metadata": {
        "id": "zYZT24oHRguq"
      },
      "execution_count": null,
      "outputs": []
    },
    {
      "cell_type": "code",
      "source": [
        "print(type(data_frame))\n",
        "print(data_frame.shape)"
      ],
      "metadata": {
        "colab": {
          "base_uri": "https://localhost:8080/"
        },
        "id": "BJ7IKw-CRjG4",
        "outputId": "c5baa517-0653-424d-a166-32a7cf842e29"
      },
      "execution_count": null,
      "outputs": [
        {
          "output_type": "stream",
          "name": "stdout",
          "text": [
            "<class 'pandas.core.frame.DataFrame'>\n",
            "(8732, 8)\n"
          ]
        }
      ]
    },
    {
      "cell_type": "code",
      "source": [
        "data_frame.info()"
      ],
      "metadata": {
        "colab": {
          "base_uri": "https://localhost:8080/"
        },
        "id": "5FLlQ-9xRktK",
        "outputId": "cbd2e755-0dec-4a5c-e06e-8fa21731d3a1"
      },
      "execution_count": null,
      "outputs": [
        {
          "output_type": "stream",
          "name": "stdout",
          "text": [
            "<class 'pandas.core.frame.DataFrame'>\n",
            "RangeIndex: 8732 entries, 0 to 8731\n",
            "Data columns (total 8 columns):\n",
            " #   Column           Non-Null Count  Dtype  \n",
            "---  ------           --------------  -----  \n",
            " 0   slice_file_name  8732 non-null   object \n",
            " 1   fsID             8732 non-null   int64  \n",
            " 2   start            8732 non-null   float64\n",
            " 3   end              8732 non-null   float64\n",
            " 4   salience         8732 non-null   int64  \n",
            " 5   fold             8732 non-null   int64  \n",
            " 6   classID          8732 non-null   int64  \n",
            " 7   class            8732 non-null   object \n",
            "dtypes: float64(2), int64(4), object(2)\n",
            "memory usage: 545.9+ KB\n"
          ]
        }
      ]
    },
    {
      "cell_type": "code",
      "source": [
        "data_frame.shape"
      ],
      "metadata": {
        "colab": {
          "base_uri": "https://localhost:8080/"
        },
        "id": "BL-3cay9RmCw",
        "outputId": "1e57b002-73c6-48ae-97a3-3a57d5e61524"
      },
      "execution_count": null,
      "outputs": [
        {
          "output_type": "execute_result",
          "data": {
            "text/plain": [
              "(8732, 8)"
            ]
          },
          "metadata": {},
          "execution_count": 14
        }
      ]
    },
    {
      "cell_type": "code",
      "source": [
        "data_frame.head()"
      ],
      "metadata": {
        "colab": {
          "base_uri": "https://localhost:8080/",
          "height": 206
        },
        "id": "XNFmqg4_RoAw",
        "outputId": "934853fc-ffa7-442d-a363-d63acf41c4a4"
      },
      "execution_count": null,
      "outputs": [
        {
          "output_type": "execute_result",
          "data": {
            "text/plain": [
              "      slice_file_name    fsID  start        end  salience  fold  classID  \\\n",
              "0    100032-3-0-0.wav  100032    0.0   0.317551         1     5        3   \n",
              "1  100263-2-0-117.wav  100263   58.5  62.500000         1     5        2   \n",
              "2  100263-2-0-121.wav  100263   60.5  64.500000         1     5        2   \n",
              "3  100263-2-0-126.wav  100263   63.0  67.000000         1     5        2   \n",
              "4  100263-2-0-137.wav  100263   68.5  72.500000         1     5        2   \n",
              "\n",
              "              class  \n",
              "0          dog_bark  \n",
              "1  children_playing  \n",
              "2  children_playing  \n",
              "3  children_playing  \n",
              "4  children_playing  "
            ],
            "text/html": [
              "\n",
              "  <div id=\"df-4ab1c373-83f4-4f86-baf3-452c34f83dc6\">\n",
              "    <div class=\"colab-df-container\">\n",
              "      <div>\n",
              "<style scoped>\n",
              "    .dataframe tbody tr th:only-of-type {\n",
              "        vertical-align: middle;\n",
              "    }\n",
              "\n",
              "    .dataframe tbody tr th {\n",
              "        vertical-align: top;\n",
              "    }\n",
              "\n",
              "    .dataframe thead th {\n",
              "        text-align: right;\n",
              "    }\n",
              "</style>\n",
              "<table border=\"1\" class=\"dataframe\">\n",
              "  <thead>\n",
              "    <tr style=\"text-align: right;\">\n",
              "      <th></th>\n",
              "      <th>slice_file_name</th>\n",
              "      <th>fsID</th>\n",
              "      <th>start</th>\n",
              "      <th>end</th>\n",
              "      <th>salience</th>\n",
              "      <th>fold</th>\n",
              "      <th>classID</th>\n",
              "      <th>class</th>\n",
              "    </tr>\n",
              "  </thead>\n",
              "  <tbody>\n",
              "    <tr>\n",
              "      <th>0</th>\n",
              "      <td>100032-3-0-0.wav</td>\n",
              "      <td>100032</td>\n",
              "      <td>0.0</td>\n",
              "      <td>0.317551</td>\n",
              "      <td>1</td>\n",
              "      <td>5</td>\n",
              "      <td>3</td>\n",
              "      <td>dog_bark</td>\n",
              "    </tr>\n",
              "    <tr>\n",
              "      <th>1</th>\n",
              "      <td>100263-2-0-117.wav</td>\n",
              "      <td>100263</td>\n",
              "      <td>58.5</td>\n",
              "      <td>62.500000</td>\n",
              "      <td>1</td>\n",
              "      <td>5</td>\n",
              "      <td>2</td>\n",
              "      <td>children_playing</td>\n",
              "    </tr>\n",
              "    <tr>\n",
              "      <th>2</th>\n",
              "      <td>100263-2-0-121.wav</td>\n",
              "      <td>100263</td>\n",
              "      <td>60.5</td>\n",
              "      <td>64.500000</td>\n",
              "      <td>1</td>\n",
              "      <td>5</td>\n",
              "      <td>2</td>\n",
              "      <td>children_playing</td>\n",
              "    </tr>\n",
              "    <tr>\n",
              "      <th>3</th>\n",
              "      <td>100263-2-0-126.wav</td>\n",
              "      <td>100263</td>\n",
              "      <td>63.0</td>\n",
              "      <td>67.000000</td>\n",
              "      <td>1</td>\n",
              "      <td>5</td>\n",
              "      <td>2</td>\n",
              "      <td>children_playing</td>\n",
              "    </tr>\n",
              "    <tr>\n",
              "      <th>4</th>\n",
              "      <td>100263-2-0-137.wav</td>\n",
              "      <td>100263</td>\n",
              "      <td>68.5</td>\n",
              "      <td>72.500000</td>\n",
              "      <td>1</td>\n",
              "      <td>5</td>\n",
              "      <td>2</td>\n",
              "      <td>children_playing</td>\n",
              "    </tr>\n",
              "  </tbody>\n",
              "</table>\n",
              "</div>\n",
              "      <button class=\"colab-df-convert\" onclick=\"convertToInteractive('df-4ab1c373-83f4-4f86-baf3-452c34f83dc6')\"\n",
              "              title=\"Convert this dataframe to an interactive table.\"\n",
              "              style=\"display:none;\">\n",
              "        \n",
              "  <svg xmlns=\"http://www.w3.org/2000/svg\" height=\"24px\"viewBox=\"0 0 24 24\"\n",
              "       width=\"24px\">\n",
              "    <path d=\"M0 0h24v24H0V0z\" fill=\"none\"/>\n",
              "    <path d=\"M18.56 5.44l.94 2.06.94-2.06 2.06-.94-2.06-.94-.94-2.06-.94 2.06-2.06.94zm-11 1L8.5 8.5l.94-2.06 2.06-.94-2.06-.94L8.5 2.5l-.94 2.06-2.06.94zm10 10l.94 2.06.94-2.06 2.06-.94-2.06-.94-.94-2.06-.94 2.06-2.06.94z\"/><path d=\"M17.41 7.96l-1.37-1.37c-.4-.4-.92-.59-1.43-.59-.52 0-1.04.2-1.43.59L10.3 9.45l-7.72 7.72c-.78.78-.78 2.05 0 2.83L4 21.41c.39.39.9.59 1.41.59.51 0 1.02-.2 1.41-.59l7.78-7.78 2.81-2.81c.8-.78.8-2.07 0-2.86zM5.41 20L4 18.59l7.72-7.72 1.47 1.35L5.41 20z\"/>\n",
              "  </svg>\n",
              "      </button>\n",
              "      \n",
              "  <style>\n",
              "    .colab-df-container {\n",
              "      display:flex;\n",
              "      flex-wrap:wrap;\n",
              "      gap: 12px;\n",
              "    }\n",
              "\n",
              "    .colab-df-convert {\n",
              "      background-color: #E8F0FE;\n",
              "      border: none;\n",
              "      border-radius: 50%;\n",
              "      cursor: pointer;\n",
              "      display: none;\n",
              "      fill: #1967D2;\n",
              "      height: 32px;\n",
              "      padding: 0 0 0 0;\n",
              "      width: 32px;\n",
              "    }\n",
              "\n",
              "    .colab-df-convert:hover {\n",
              "      background-color: #E2EBFA;\n",
              "      box-shadow: 0px 1px 2px rgba(60, 64, 67, 0.3), 0px 1px 3px 1px rgba(60, 64, 67, 0.15);\n",
              "      fill: #174EA6;\n",
              "    }\n",
              "\n",
              "    [theme=dark] .colab-df-convert {\n",
              "      background-color: #3B4455;\n",
              "      fill: #D2E3FC;\n",
              "    }\n",
              "\n",
              "    [theme=dark] .colab-df-convert:hover {\n",
              "      background-color: #434B5C;\n",
              "      box-shadow: 0px 1px 3px 1px rgba(0, 0, 0, 0.15);\n",
              "      filter: drop-shadow(0px 1px 2px rgba(0, 0, 0, 0.3));\n",
              "      fill: #FFFFFF;\n",
              "    }\n",
              "  </style>\n",
              "\n",
              "      <script>\n",
              "        const buttonEl =\n",
              "          document.querySelector('#df-4ab1c373-83f4-4f86-baf3-452c34f83dc6 button.colab-df-convert');\n",
              "        buttonEl.style.display =\n",
              "          google.colab.kernel.accessAllowed ? 'block' : 'none';\n",
              "\n",
              "        async function convertToInteractive(key) {\n",
              "          const element = document.querySelector('#df-4ab1c373-83f4-4f86-baf3-452c34f83dc6');\n",
              "          const dataTable =\n",
              "            await google.colab.kernel.invokeFunction('convertToInteractive',\n",
              "                                                     [key], {});\n",
              "          if (!dataTable) return;\n",
              "\n",
              "          const docLinkHtml = 'Like what you see? Visit the ' +\n",
              "            '<a target=\"_blank\" href=https://colab.research.google.com/notebooks/data_table.ipynb>data table notebook</a>'\n",
              "            + ' to learn more about interactive tables.';\n",
              "          element.innerHTML = '';\n",
              "          dataTable['output_type'] = 'display_data';\n",
              "          await google.colab.output.renderOutput(dataTable, element);\n",
              "          const docLink = document.createElement('div');\n",
              "          docLink.innerHTML = docLinkHtml;\n",
              "          element.appendChild(docLink);\n",
              "        }\n",
              "      </script>\n",
              "    </div>\n",
              "  </div>\n",
              "  "
            ]
          },
          "metadata": {},
          "execution_count": 15
        }
      ]
    },
    {
      "cell_type": "code",
      "source": [
        "data_frame.tail()"
      ],
      "metadata": {
        "colab": {
          "base_uri": "https://localhost:8080/",
          "height": 206
        },
        "id": "T7jZEzG4RpRw",
        "outputId": "f1f2390c-23cf-48b6-8c83-9a947dc46848"
      },
      "execution_count": null,
      "outputs": [
        {
          "output_type": "execute_result",
          "data": {
            "text/plain": [
              "      slice_file_name   fsID       start         end  salience  fold  classID  \\\n",
              "8727  99812-1-2-0.wav  99812  159.522205  163.522205         2     7        1   \n",
              "8728  99812-1-3-0.wav  99812  181.142431  183.284976         2     7        1   \n",
              "8729  99812-1-4-0.wav  99812  242.691902  246.197885         2     7        1   \n",
              "8730  99812-1-5-0.wav  99812  253.209850  255.741948         2     7        1   \n",
              "8731  99812-1-6-0.wav  99812  332.289233  334.821332         2     7        1   \n",
              "\n",
              "         class  \n",
              "8727  car_horn  \n",
              "8728  car_horn  \n",
              "8729  car_horn  \n",
              "8730  car_horn  \n",
              "8731  car_horn  "
            ],
            "text/html": [
              "\n",
              "  <div id=\"df-8b80fb47-9e9d-4ff4-a5fa-abc76b4b383f\">\n",
              "    <div class=\"colab-df-container\">\n",
              "      <div>\n",
              "<style scoped>\n",
              "    .dataframe tbody tr th:only-of-type {\n",
              "        vertical-align: middle;\n",
              "    }\n",
              "\n",
              "    .dataframe tbody tr th {\n",
              "        vertical-align: top;\n",
              "    }\n",
              "\n",
              "    .dataframe thead th {\n",
              "        text-align: right;\n",
              "    }\n",
              "</style>\n",
              "<table border=\"1\" class=\"dataframe\">\n",
              "  <thead>\n",
              "    <tr style=\"text-align: right;\">\n",
              "      <th></th>\n",
              "      <th>slice_file_name</th>\n",
              "      <th>fsID</th>\n",
              "      <th>start</th>\n",
              "      <th>end</th>\n",
              "      <th>salience</th>\n",
              "      <th>fold</th>\n",
              "      <th>classID</th>\n",
              "      <th>class</th>\n",
              "    </tr>\n",
              "  </thead>\n",
              "  <tbody>\n",
              "    <tr>\n",
              "      <th>8727</th>\n",
              "      <td>99812-1-2-0.wav</td>\n",
              "      <td>99812</td>\n",
              "      <td>159.522205</td>\n",
              "      <td>163.522205</td>\n",
              "      <td>2</td>\n",
              "      <td>7</td>\n",
              "      <td>1</td>\n",
              "      <td>car_horn</td>\n",
              "    </tr>\n",
              "    <tr>\n",
              "      <th>8728</th>\n",
              "      <td>99812-1-3-0.wav</td>\n",
              "      <td>99812</td>\n",
              "      <td>181.142431</td>\n",
              "      <td>183.284976</td>\n",
              "      <td>2</td>\n",
              "      <td>7</td>\n",
              "      <td>1</td>\n",
              "      <td>car_horn</td>\n",
              "    </tr>\n",
              "    <tr>\n",
              "      <th>8729</th>\n",
              "      <td>99812-1-4-0.wav</td>\n",
              "      <td>99812</td>\n",
              "      <td>242.691902</td>\n",
              "      <td>246.197885</td>\n",
              "      <td>2</td>\n",
              "      <td>7</td>\n",
              "      <td>1</td>\n",
              "      <td>car_horn</td>\n",
              "    </tr>\n",
              "    <tr>\n",
              "      <th>8730</th>\n",
              "      <td>99812-1-5-0.wav</td>\n",
              "      <td>99812</td>\n",
              "      <td>253.209850</td>\n",
              "      <td>255.741948</td>\n",
              "      <td>2</td>\n",
              "      <td>7</td>\n",
              "      <td>1</td>\n",
              "      <td>car_horn</td>\n",
              "    </tr>\n",
              "    <tr>\n",
              "      <th>8731</th>\n",
              "      <td>99812-1-6-0.wav</td>\n",
              "      <td>99812</td>\n",
              "      <td>332.289233</td>\n",
              "      <td>334.821332</td>\n",
              "      <td>2</td>\n",
              "      <td>7</td>\n",
              "      <td>1</td>\n",
              "      <td>car_horn</td>\n",
              "    </tr>\n",
              "  </tbody>\n",
              "</table>\n",
              "</div>\n",
              "      <button class=\"colab-df-convert\" onclick=\"convertToInteractive('df-8b80fb47-9e9d-4ff4-a5fa-abc76b4b383f')\"\n",
              "              title=\"Convert this dataframe to an interactive table.\"\n",
              "              style=\"display:none;\">\n",
              "        \n",
              "  <svg xmlns=\"http://www.w3.org/2000/svg\" height=\"24px\"viewBox=\"0 0 24 24\"\n",
              "       width=\"24px\">\n",
              "    <path d=\"M0 0h24v24H0V0z\" fill=\"none\"/>\n",
              "    <path d=\"M18.56 5.44l.94 2.06.94-2.06 2.06-.94-2.06-.94-.94-2.06-.94 2.06-2.06.94zm-11 1L8.5 8.5l.94-2.06 2.06-.94-2.06-.94L8.5 2.5l-.94 2.06-2.06.94zm10 10l.94 2.06.94-2.06 2.06-.94-2.06-.94-.94-2.06-.94 2.06-2.06.94z\"/><path d=\"M17.41 7.96l-1.37-1.37c-.4-.4-.92-.59-1.43-.59-.52 0-1.04.2-1.43.59L10.3 9.45l-7.72 7.72c-.78.78-.78 2.05 0 2.83L4 21.41c.39.39.9.59 1.41.59.51 0 1.02-.2 1.41-.59l7.78-7.78 2.81-2.81c.8-.78.8-2.07 0-2.86zM5.41 20L4 18.59l7.72-7.72 1.47 1.35L5.41 20z\"/>\n",
              "  </svg>\n",
              "      </button>\n",
              "      \n",
              "  <style>\n",
              "    .colab-df-container {\n",
              "      display:flex;\n",
              "      flex-wrap:wrap;\n",
              "      gap: 12px;\n",
              "    }\n",
              "\n",
              "    .colab-df-convert {\n",
              "      background-color: #E8F0FE;\n",
              "      border: none;\n",
              "      border-radius: 50%;\n",
              "      cursor: pointer;\n",
              "      display: none;\n",
              "      fill: #1967D2;\n",
              "      height: 32px;\n",
              "      padding: 0 0 0 0;\n",
              "      width: 32px;\n",
              "    }\n",
              "\n",
              "    .colab-df-convert:hover {\n",
              "      background-color: #E2EBFA;\n",
              "      box-shadow: 0px 1px 2px rgba(60, 64, 67, 0.3), 0px 1px 3px 1px rgba(60, 64, 67, 0.15);\n",
              "      fill: #174EA6;\n",
              "    }\n",
              "\n",
              "    [theme=dark] .colab-df-convert {\n",
              "      background-color: #3B4455;\n",
              "      fill: #D2E3FC;\n",
              "    }\n",
              "\n",
              "    [theme=dark] .colab-df-convert:hover {\n",
              "      background-color: #434B5C;\n",
              "      box-shadow: 0px 1px 3px 1px rgba(0, 0, 0, 0.15);\n",
              "      filter: drop-shadow(0px 1px 2px rgba(0, 0, 0, 0.3));\n",
              "      fill: #FFFFFF;\n",
              "    }\n",
              "  </style>\n",
              "\n",
              "      <script>\n",
              "        const buttonEl =\n",
              "          document.querySelector('#df-8b80fb47-9e9d-4ff4-a5fa-abc76b4b383f button.colab-df-convert');\n",
              "        buttonEl.style.display =\n",
              "          google.colab.kernel.accessAllowed ? 'block' : 'none';\n",
              "\n",
              "        async function convertToInteractive(key) {\n",
              "          const element = document.querySelector('#df-8b80fb47-9e9d-4ff4-a5fa-abc76b4b383f');\n",
              "          const dataTable =\n",
              "            await google.colab.kernel.invokeFunction('convertToInteractive',\n",
              "                                                     [key], {});\n",
              "          if (!dataTable) return;\n",
              "\n",
              "          const docLinkHtml = 'Like what you see? Visit the ' +\n",
              "            '<a target=\"_blank\" href=https://colab.research.google.com/notebooks/data_table.ipynb>data table notebook</a>'\n",
              "            + ' to learn more about interactive tables.';\n",
              "          element.innerHTML = '';\n",
              "          dataTable['output_type'] = 'display_data';\n",
              "          await google.colab.output.renderOutput(dataTable, element);\n",
              "          const docLink = document.createElement('div');\n",
              "          docLink.innerHTML = docLinkHtml;\n",
              "          element.appendChild(docLink);\n",
              "        }\n",
              "      </script>\n",
              "    </div>\n",
              "  </div>\n",
              "  "
            ]
          },
          "metadata": {},
          "execution_count": 16
        }
      ]
    },
    {
      "cell_type": "code",
      "source": [
        "import os\n",
        "import cv2\n",
        "import random\n",
        "import warnings\n",
        "import numpy as np\n",
        "import pandas as pd\n",
        "import seaborn as sns\n",
        "from PIL import Image, ImageOps\n",
        "import matplotlib.pyplot as plt\n",
        "from sklearn.model_selection import train_test_split\n",
        "warnings.filterwarnings('ignore')"
      ],
      "metadata": {
        "id": "eXsn-hanRq_K"
      },
      "execution_count": null,
      "outputs": []
    },
    {
      "cell_type": "code",
      "source": [
        "from pathlib import Path\n",
        "import os.path"
      ],
      "metadata": {
        "id": "Uxe7bHZKRs6a"
      },
      "execution_count": null,
      "outputs": []
    },
    {
      "cell_type": "code",
      "source": [
        "air_conditioners = os.listdir(\"/content/drive/MyDrive/goruntu/0-20220929T161921Z-001/0/\")\n",
        "car_horns = os.listdir(\"/content/drive/MyDrive/goruntu/1-20220929T180135Z-001/1/\")\n",
        "children_playings = os.listdir(\"/content/drive/MyDrive/goruntu/2/\")\n",
        "dog_barks = os.listdir(\"/content/drive/MyDrive/goruntu/3-20220929T182907Z-001/3/\")\n",
        "drillings = os.listdir(\"/content/drive/MyDrive/goruntu/4-20220929T182908Z-001/4/\")\n",
        "engine_idlings =os.listdir(\"/content/drive/MyDrive/goruntu/5-20220929T182912Z-001/5/\")\n",
        "gun_shots = os.listdir(\"/content/drive/MyDrive/goruntu/6-20220929T182914Z-001/6/\")\n",
        "jackhammers = os.listdir(\"/content/drive/MyDrive/goruntu/7-20220929T182916Z-001/7/\")\n",
        "sirens = os.listdir(\"/content/drive/MyDrive/goruntu/8-20220929T182917Z-001/8/\")\n",
        "street_musics = os.listdir(\"/content/drive/MyDrive/goruntu/9-20220929T182919Z-001/9/\")\n",
        "\n",
        "\n",
        "sil_air_conditionerss = []\n",
        "sil_car_hornss = []\n",
        "sil_children_playingss = []\n",
        "sil_dog_barkss = []\n",
        "sil_drillingss = []\n",
        "sil_engine_idlingss = []\n",
        "sil_gun_shotss = []\n",
        "sil_jackhammerss = []\n",
        "sil_sirenss = []\n",
        "sil_street_musicss  = []\n",
        "\n",
        "for f_name in air_conditioners:\n",
        "  try:\n",
        "    path = \"/content/drive/MyDrive/goruntu/0-20220929T161921Z-001/0/\" + f_name\n",
        "    image = Image.open(path)\n",
        "    new_image = image.resize((128, 128))\n",
        "    new_path = \"/content/New_File/airs.\" + f_name\n",
        "    new_image.save(new_path)\n",
        "  except:\n",
        "    print(f_name)\n",
        "    sil_air_conditionerss.append(\"/content/New_File/airs.\" + f_name)\n",
        "    continue"
      ],
      "metadata": {
        "id": "0uFPw2WtRukD"
      },
      "execution_count": null,
      "outputs": []
    },
    {
      "cell_type": "code",
      "source": [
        "for f_name in car_horns:\n",
        "  try:\n",
        "    path = \"/content/drive/MyDrive/goruntu/1-20220929T180135Z-001/1/\" + f_name\n",
        "    image = Image.open(path)\n",
        "    new_image = image.resize((128, 128))\n",
        "    new_path = \"/content/New_File/cars.\" + f_name\n",
        "    new_image.save(new_path)\n",
        "  except:\n",
        "    print(f_name)\n",
        "    sil_car_hornss.append(\"/content/New_File/cars.\" + f_name)\n",
        "    continue"
      ],
      "metadata": {
        "id": "mK_Vw65gR6jh"
      },
      "execution_count": null,
      "outputs": []
    },
    {
      "cell_type": "code",
      "source": [
        "for f_name in children_playings:\n",
        "  try:\n",
        "    path = \"/content/drive/MyDrive/goruntu/2/\" + f_name\n",
        "    image = Image.open(path)\n",
        "    new_image = image.resize((128, 128))\n",
        "    new_path = \"/content/New_File/chil.\" + f_name\n",
        "    new_image.save(new_path)\n",
        "  except:\n",
        "    print(f_name)\n",
        "    sil_children_playingss.append(\"/content/New_File/chil.\" + f_name)\n",
        "    continue"
      ],
      "metadata": {
        "id": "gs_bkra-TZJy"
      },
      "execution_count": null,
      "outputs": []
    },
    {
      "cell_type": "code",
      "source": [
        "for f_name in dog_barks:\n",
        "  try:\n",
        "    path = \"/content/drive/MyDrive/goruntu/3-20220929T182907Z-001/3/\" + f_name\n",
        "    image = Image.open(path)\n",
        "    new_image = image.resize((128, 128))\n",
        "    new_path = \"/content/New_File/dogs.\" + f_name\n",
        "    new_image.save(new_path)\n",
        "  except:\n",
        "    print(f_name)\n",
        "    sil_dog_barkss.append(\"/content/New_File/dogs.\" + f_name)\n",
        "    continue"
      ],
      "metadata": {
        "id": "2GYK0l2mWMZO"
      },
      "execution_count": null,
      "outputs": []
    },
    {
      "cell_type": "code",
      "source": [
        "for f_name in drillings:\n",
        "  try:\n",
        "    path = \"/content/drive/MyDrive/goruntu/4-20220929T182908Z-001/4/\" + f_name\n",
        "    image = Image.open(path)\n",
        "    new_image = image.resize((128, 128))\n",
        "    new_path = \"/content/New_File/dril.\" + f_name\n",
        "    new_image.save(new_path)\n",
        "  except:\n",
        "    print(f_name)\n",
        "    sil_drillingss.append(\"/content/New_File/dril.\" + f_name)\n",
        "    continue"
      ],
      "metadata": {
        "id": "nO0d92f9YfLe"
      },
      "execution_count": null,
      "outputs": []
    },
    {
      "cell_type": "code",
      "source": [
        "for f_name in engine_idlings:\n",
        "  try:\n",
        "    path = \"/content/drive/MyDrive/goruntu/5-20220929T182912Z-001/5/\" + f_name\n",
        "    image = Image.open(path)\n",
        "    new_image = image.resize((128, 128))\n",
        "    new_path = \"/content/New_File/engi.\" + f_name\n",
        "    new_image.save(new_path)\n",
        "  except:\n",
        "    print(f_name)\n",
        "    sil_engine_idlingss.append(\"/content/New_File/engi.\" + f_name)\n",
        "    continue"
      ],
      "metadata": {
        "id": "i_qZQaIna0O2"
      },
      "execution_count": null,
      "outputs": []
    },
    {
      "cell_type": "code",
      "source": [
        "for f_name in gun_shots:\n",
        "  try:\n",
        "    path = \"/content/drive/MyDrive/goruntu/6-20220929T182914Z-001/6/\" + f_name\n",
        "    image = Image.open(path)\n",
        "    new_image = image.resize((128, 128))\n",
        "    new_path = \"/content/New_File/guns.\" + f_name\n",
        "    new_image.save(new_path)\n",
        "  except:\n",
        "    print(f_name)\n",
        "    sil_gun_shotss.append(\"/content/New_File2/guns.\" + f_name)\n",
        "    continue"
      ],
      "metadata": {
        "id": "LObeHRGMdSCq"
      },
      "execution_count": null,
      "outputs": []
    },
    {
      "cell_type": "code",
      "source": [
        "for f_name in jackhammers:\n",
        "  try:\n",
        "    path = \"/content/drive/MyDrive/goruntu/7-20220929T182916Z-001/7/\" + f_name\n",
        "    image = Image.open(path)\n",
        "    new_image = image.resize((128, 128))\n",
        "    new_path = \"/content/New_File/jack.\" + f_name\n",
        "    new_image.save(new_path)\n",
        "  except:\n",
        "    print(f_name)\n",
        "    sil_jackhammerss.append(\"/content/New_File/jack.\" + f_name)\n",
        "    continue"
      ],
      "metadata": {
        "id": "xvgnacIDeJXh"
      },
      "execution_count": null,
      "outputs": []
    },
    {
      "cell_type": "code",
      "source": [
        "for f_name in sirens:\n",
        "  try:\n",
        "    path = \"/content/drive/MyDrive/goruntu/8-20220929T182917Z-001/8/\" + f_name\n",
        "    image = Image.open(path)\n",
        "    new_image = image.resize((128, 128))\n",
        "    new_path = \"/content/New_File/sire.\" + f_name\n",
        "    new_image.save(new_path)\n",
        "  except:\n",
        "    print(f_name)\n",
        "    sil_sirenss.append(\"/content/New_File/sire.\" + f_name)\n",
        "    continue"
      ],
      "metadata": {
        "id": "neX6p8V-gzaZ"
      },
      "execution_count": null,
      "outputs": []
    },
    {
      "cell_type": "code",
      "source": [
        "for f_name in street_musics:\n",
        "  try:\n",
        "    path = \"/content/drive/MyDrive/goruntu/9-20220929T182919Z-001/9/\" + f_name\n",
        "    image = Image.open(path)\n",
        "    new_image = image.resize((128, 128))\n",
        "    new_path = \"/content/New_File/stre.\" + f_name\n",
        "    new_image.save(new_path)\n",
        "  except:\n",
        "    print(f_name)\n",
        "    sil_street_musicss.append(\"/content/New_File/stre.\" + f_name)\n",
        "    continue"
      ],
      "metadata": {
        "id": "zdAALdiQjCU8"
      },
      "execution_count": null,
      "outputs": []
    },
    {
      "cell_type": "code",
      "source": [
        "filenames = os.listdir(\"/content/New_File\")\n",
        "\n",
        "labels = []\n",
        "input_path = []\n",
        "\n",
        "for i in range(len(filenames)):\n",
        "  input_path.append(\"/content/New_File/\" + filenames[i])\n",
        "  file_name = filenames[i]\n",
        "  label = file_name[0:4]\n",
        "\n",
        "  if label == 'airs':\n",
        "    labels.append(0)\n",
        "  elif label == 'cars':\n",
        "    labels.append(1)\n",
        "  elif label == 'chil':\n",
        "    labels.append(2)\n",
        "  elif label == 'dogs':\n",
        "    labels.append(3)\n",
        "  elif label == 'dril':\n",
        "    labels.append(4)\n",
        "  elif label == 'engi':\n",
        "    labels.append(5)\n",
        "  elif label == 'guns':\n",
        "    labels.append(6)\n",
        "  elif label == 'jack':\n",
        "    labels.append(7)\n",
        "  elif label == 'sire':\n",
        "    labels.append(8)\n",
        "  else:\n",
        "    labels.append(9)"
      ],
      "metadata": {
        "id": "kfFRKIZ3l61_"
      },
      "execution_count": null,
      "outputs": []
    },
    {
      "cell_type": "code",
      "source": [
        "values, counts = np.unique(labels, return_counts=True)\n",
        "print(values)\n",
        "print(counts)"
      ],
      "metadata": {
        "colab": {
          "base_uri": "https://localhost:8080/"
        },
        "id": "PP84lhP2mC_-",
        "outputId": "590d9caf-e9e0-4db0-ec62-e235448255dc"
      },
      "execution_count": null,
      "outputs": [
        {
          "output_type": "stream",
          "name": "stdout",
          "text": [
            "[0 1 2 3 4 5 6 7 8 9]\n",
            "[1000  429 1000 1000 1000 1000  374 1000  929 1000]\n"
          ]
        }
      ]
    },
    {
      "cell_type": "code",
      "source": [
        "df = pd.DataFrame()\n",
        "df['images'] = input_path\n",
        "df['label'] = labels\n",
        "df = df.sample(frac=1).reset_index(drop=True)\n",
        "df.head()"
      ],
      "metadata": {
        "colab": {
          "base_uri": "https://localhost:8080/",
          "height": 206
        },
        "id": "P69ClWGNmGDe",
        "outputId": "0cf723d4-a727-47f6-a18e-e4924589df62"
      },
      "execution_count": null,
      "outputs": [
        {
          "output_type": "execute_result",
          "data": {
            "text/plain": [
              "                                     images  label\n",
              "0   /content/New_File/chil.155280-2-0-3.png      2\n",
              "1    /content/New_File/dogs.29936-3-1-0.png      3\n",
              "2   /content/New_File/airs.202517-0-0-0.png      0\n",
              "3   /content/New_File/sire.164053-8-2-2.png      8\n",
              "4  /content/New_File/dril.104817-4-0-11.png      4"
            ],
            "text/html": [
              "\n",
              "  <div id=\"df-ceb1d31e-5eb2-48b9-88cb-45c9e693e4db\">\n",
              "    <div class=\"colab-df-container\">\n",
              "      <div>\n",
              "<style scoped>\n",
              "    .dataframe tbody tr th:only-of-type {\n",
              "        vertical-align: middle;\n",
              "    }\n",
              "\n",
              "    .dataframe tbody tr th {\n",
              "        vertical-align: top;\n",
              "    }\n",
              "\n",
              "    .dataframe thead th {\n",
              "        text-align: right;\n",
              "    }\n",
              "</style>\n",
              "<table border=\"1\" class=\"dataframe\">\n",
              "  <thead>\n",
              "    <tr style=\"text-align: right;\">\n",
              "      <th></th>\n",
              "      <th>images</th>\n",
              "      <th>label</th>\n",
              "    </tr>\n",
              "  </thead>\n",
              "  <tbody>\n",
              "    <tr>\n",
              "      <th>0</th>\n",
              "      <td>/content/New_File/chil.155280-2-0-3.png</td>\n",
              "      <td>2</td>\n",
              "    </tr>\n",
              "    <tr>\n",
              "      <th>1</th>\n",
              "      <td>/content/New_File/dogs.29936-3-1-0.png</td>\n",
              "      <td>3</td>\n",
              "    </tr>\n",
              "    <tr>\n",
              "      <th>2</th>\n",
              "      <td>/content/New_File/airs.202517-0-0-0.png</td>\n",
              "      <td>0</td>\n",
              "    </tr>\n",
              "    <tr>\n",
              "      <th>3</th>\n",
              "      <td>/content/New_File/sire.164053-8-2-2.png</td>\n",
              "      <td>8</td>\n",
              "    </tr>\n",
              "    <tr>\n",
              "      <th>4</th>\n",
              "      <td>/content/New_File/dril.104817-4-0-11.png</td>\n",
              "      <td>4</td>\n",
              "    </tr>\n",
              "  </tbody>\n",
              "</table>\n",
              "</div>\n",
              "      <button class=\"colab-df-convert\" onclick=\"convertToInteractive('df-ceb1d31e-5eb2-48b9-88cb-45c9e693e4db')\"\n",
              "              title=\"Convert this dataframe to an interactive table.\"\n",
              "              style=\"display:none;\">\n",
              "        \n",
              "  <svg xmlns=\"http://www.w3.org/2000/svg\" height=\"24px\"viewBox=\"0 0 24 24\"\n",
              "       width=\"24px\">\n",
              "    <path d=\"M0 0h24v24H0V0z\" fill=\"none\"/>\n",
              "    <path d=\"M18.56 5.44l.94 2.06.94-2.06 2.06-.94-2.06-.94-.94-2.06-.94 2.06-2.06.94zm-11 1L8.5 8.5l.94-2.06 2.06-.94-2.06-.94L8.5 2.5l-.94 2.06-2.06.94zm10 10l.94 2.06.94-2.06 2.06-.94-2.06-.94-.94-2.06-.94 2.06-2.06.94z\"/><path d=\"M17.41 7.96l-1.37-1.37c-.4-.4-.92-.59-1.43-.59-.52 0-1.04.2-1.43.59L10.3 9.45l-7.72 7.72c-.78.78-.78 2.05 0 2.83L4 21.41c.39.39.9.59 1.41.59.51 0 1.02-.2 1.41-.59l7.78-7.78 2.81-2.81c.8-.78.8-2.07 0-2.86zM5.41 20L4 18.59l7.72-7.72 1.47 1.35L5.41 20z\"/>\n",
              "  </svg>\n",
              "      </button>\n",
              "      \n",
              "  <style>\n",
              "    .colab-df-container {\n",
              "      display:flex;\n",
              "      flex-wrap:wrap;\n",
              "      gap: 12px;\n",
              "    }\n",
              "\n",
              "    .colab-df-convert {\n",
              "      background-color: #E8F0FE;\n",
              "      border: none;\n",
              "      border-radius: 50%;\n",
              "      cursor: pointer;\n",
              "      display: none;\n",
              "      fill: #1967D2;\n",
              "      height: 32px;\n",
              "      padding: 0 0 0 0;\n",
              "      width: 32px;\n",
              "    }\n",
              "\n",
              "    .colab-df-convert:hover {\n",
              "      background-color: #E2EBFA;\n",
              "      box-shadow: 0px 1px 2px rgba(60, 64, 67, 0.3), 0px 1px 3px 1px rgba(60, 64, 67, 0.15);\n",
              "      fill: #174EA6;\n",
              "    }\n",
              "\n",
              "    [theme=dark] .colab-df-convert {\n",
              "      background-color: #3B4455;\n",
              "      fill: #D2E3FC;\n",
              "    }\n",
              "\n",
              "    [theme=dark] .colab-df-convert:hover {\n",
              "      background-color: #434B5C;\n",
              "      box-shadow: 0px 1px 3px 1px rgba(0, 0, 0, 0.15);\n",
              "      filter: drop-shadow(0px 1px 2px rgba(0, 0, 0, 0.3));\n",
              "      fill: #FFFFFF;\n",
              "    }\n",
              "  </style>\n",
              "\n",
              "      <script>\n",
              "        const buttonEl =\n",
              "          document.querySelector('#df-ceb1d31e-5eb2-48b9-88cb-45c9e693e4db button.colab-df-convert');\n",
              "        buttonEl.style.display =\n",
              "          google.colab.kernel.accessAllowed ? 'block' : 'none';\n",
              "\n",
              "        async function convertToInteractive(key) {\n",
              "          const element = document.querySelector('#df-ceb1d31e-5eb2-48b9-88cb-45c9e693e4db');\n",
              "          const dataTable =\n",
              "            await google.colab.kernel.invokeFunction('convertToInteractive',\n",
              "                                                     [key], {});\n",
              "          if (!dataTable) return;\n",
              "\n",
              "          const docLinkHtml = 'Like what you see? Visit the ' +\n",
              "            '<a target=\"_blank\" href=https://colab.research.google.com/notebooks/data_table.ipynb>data table notebook</a>'\n",
              "            + ' to learn more about interactive tables.';\n",
              "          element.innerHTML = '';\n",
              "          dataTable['output_type'] = 'display_data';\n",
              "          await google.colab.output.renderOutput(dataTable, element);\n",
              "          const docLink = document.createElement('div');\n",
              "          docLink.innerHTML = docLinkHtml;\n",
              "          element.appendChild(docLink);\n",
              "        }\n",
              "      </script>\n",
              "    </div>\n",
              "  </div>\n",
              "  "
            ]
          },
          "metadata": {},
          "execution_count": 31
        }
      ]
    },
    {
      "cell_type": "code",
      "source": [
        "image_width = 25\n",
        "image_height = 25"
      ],
      "metadata": {
        "id": "JDQM23wYmQ-2"
      },
      "execution_count": null,
      "outputs": []
    },
    {
      "cell_type": "code",
      "source": [
        "# read image file,resize,then get gray scaled ,normalized_image\n",
        "def get_normalized_image(image_file) :\n",
        "\n",
        "  #reading the image to be normalized using imread() function\n",
        "  image_read = cv2.imread(image_file)\n",
        "\n",
        "  # resize image by specifying custom width and height\n",
        "  image_resized = cv2.resize(image_read, (image_width, image_height))\n",
        "\n",
        "  # converting the image to grayscale image\n",
        "  gray_image = cv2.cvtColor(image_resized , cv2.COLOR_BGR2GRAY)\n",
        "\n",
        "  #setting the array for resulting image after normalization\n",
        "  result_image = np.zeros((image_width, image_height))\n",
        "\n",
        "  #normalizing the given image using normalize() function\n",
        "  normalized_image = cv2.normalize(gray_image, result_image, 0, 100, cv2.NORM_MINMAX)\n",
        "\n",
        "  return normalized_image"
      ],
      "metadata": {
        "id": "BjtMQl_yy5io"
      },
      "execution_count": null,
      "outputs": []
    },
    {
      "cell_type": "code",
      "source": [
        "normalized_image = get_normalized_image('/content/New_File/airs.100852-0-0-0.png')\n",
        "\n",
        "print(type(normalized_image))\n",
        "\n",
        "print (normalized_image.shape)"
      ],
      "metadata": {
        "colab": {
          "base_uri": "https://localhost:8080/"
        },
        "id": "coZaezbIy7vW",
        "outputId": "17a47b6f-b97c-49f7-9966-e500975f3057"
      },
      "execution_count": null,
      "outputs": [
        {
          "output_type": "stream",
          "name": "stdout",
          "text": [
            "<class 'numpy.ndarray'>\n",
            "(25, 25)\n"
          ]
        }
      ]
    },
    {
      "cell_type": "code",
      "source": [
        "plt.imshow(normalized_image, cmap=\"gray\")"
      ],
      "metadata": {
        "colab": {
          "base_uri": "https://localhost:8080/",
          "height": 282
        },
        "id": "UlSvyVVCy-VO",
        "outputId": "9f9380d6-01d3-490d-caf2-268cbbe1ad1d"
      },
      "execution_count": null,
      "outputs": [
        {
          "output_type": "execute_result",
          "data": {
            "text/plain": [
              "<matplotlib.image.AxesImage at 0x7fd4d009f410>"
            ]
          },
          "metadata": {},
          "execution_count": 35
        },
        {
          "output_type": "display_data",
          "data": {
            "text/plain": [
              "<Figure size 432x288 with 1 Axes>"
            ],
            "image/png": "[encoded data removed]"
          },
          "metadata": {
            "needs_background": "light"
          }
        }
      ]
    },
    {
      "cell_type": "code",
      "source": [
        "data_frame.info()"
      ],
      "metadata": {
        "colab": {
          "base_uri": "https://localhost:8080/"
        },
        "id": "gUSSIdthy_4W",
        "outputId": "33874dec-dbad-4501-ef0e-9c15a58096c1"
      },
      "execution_count": null,
      "outputs": [
        {
          "output_type": "stream",
          "name": "stdout",
          "text": [
            "<class 'pandas.core.frame.DataFrame'>\n",
            "RangeIndex: 8732 entries, 0 to 8731\n",
            "Data columns (total 8 columns):\n",
            " #   Column           Non-Null Count  Dtype  \n",
            "---  ------           --------------  -----  \n",
            " 0   slice_file_name  8732 non-null   object \n",
            " 1   fsID             8732 non-null   int64  \n",
            " 2   start            8732 non-null   float64\n",
            " 3   end              8732 non-null   float64\n",
            " 4   salience         8732 non-null   int64  \n",
            " 5   fold             8732 non-null   int64  \n",
            " 6   classID          8732 non-null   int64  \n",
            " 7   class            8732 non-null   object \n",
            "dtypes: float64(2), int64(4), object(2)\n",
            "memory usage: 545.9+ KB\n"
          ]
        }
      ]
    },
    {
      "cell_type": "code",
      "source": [
        "def wav_to_png_file(wav_file_name) :\n",
        "  split_string = wav_file_name.split(\".\")\n",
        "  png_file_name = split_string[0] + \".png\"\n",
        "  return png_file_name"
      ],
      "metadata": {
        "id": "KdvgKlLyzB6m"
      },
      "execution_count": null,
      "outputs": []
    },
    {
      "cell_type": "code",
      "source": [
        "png_file_name = wav_to_png_file('100263-2-0-117.wav')\n",
        "\n",
        "print(png_file_name)"
      ],
      "metadata": {
        "colab": {
          "base_uri": "https://localhost:8080/"
        },
        "id": "EJ80uWNMzFEO",
        "outputId": "3f53af4a-8ae4-4867-c716-dfcc061f4eda"
      },
      "execution_count": null,
      "outputs": [
        {
          "output_type": "stream",
          "name": "stdout",
          "text": [
            "100263-2-0-117.png\n"
          ]
        }
      ]
    },
    {
      "cell_type": "code",
      "source": [
        "Images = []\n",
        "ClassIDs = []\n",
        "\n",
        "for index, row in data_frame.iterrows():\n",
        "  remainder = index%500\n",
        "  if (index > 0 and remainder == 0) :\n",
        "    print(f'index : {index}')\n",
        "   \n",
        "  slice_file_name = row['slice_file_name']\n",
        "  classID = row['classID']\n",
        "  png_file_name = wav_to_png_file(slice_file_name)\n",
        "\n",
        "  file_path = '/content/New_File'+png_file_name\n",
        "\n",
        "  ClassIDs.append(classID)\n",
        "\n",
        "  Images.append(normalized_image)"
      ],
      "metadata": {
        "colab": {
          "base_uri": "https://localhost:8080/"
        },
        "id": "hGR8j1wHzGt8",
        "outputId": "bd51cb87-6a0a-46cc-dd0a-9ce99a7ca094"
      },
      "execution_count": null,
      "outputs": [
        {
          "output_type": "stream",
          "name": "stdout",
          "text": [
            "index : 500\n",
            "index : 1000\n",
            "index : 1500\n",
            "index : 2000\n",
            "index : 2500\n",
            "index : 3000\n",
            "index : 3500\n",
            "index : 4000\n",
            "index : 4500\n",
            "index : 5000\n",
            "index : 5500\n",
            "index : 6000\n",
            "index : 6500\n",
            "index : 7000\n",
            "index : 7500\n",
            "index : 8000\n",
            "index : 8500\n"
          ]
        }
      ]
    },
    {
      "cell_type": "code",
      "source": [
        "len(ClassIDs)"
      ],
      "metadata": {
        "colab": {
          "base_uri": "https://localhost:8080/"
        },
        "id": "P3OIs9XezKNF",
        "outputId": "c2be53ea-ba5f-4957-dca2-58c350b8e428"
      },
      "execution_count": null,
      "outputs": [
        {
          "output_type": "execute_result",
          "data": {
            "text/plain": [
              "8732"
            ]
          },
          "metadata": {},
          "execution_count": 40
        }
      ]
    },
    {
      "cell_type": "code",
      "source": [
        "len(Images)"
      ],
      "metadata": {
        "colab": {
          "base_uri": "https://localhost:8080/"
        },
        "id": "mCIdP4fBzMDG",
        "outputId": "14586ede-5285-464f-f47b-dfc08dbad460"
      },
      "execution_count": null,
      "outputs": [
        {
          "output_type": "execute_result",
          "data": {
            "text/plain": [
              "8732"
            ]
          },
          "metadata": {},
          "execution_count": 41
        }
      ]
    },
    {
      "cell_type": "code",
      "source": [
        "df_image2 = pd.DataFrame()\n",
        "df_image2[\"Image\"] = Images\n",
        "df_image2[\"ClassId\"] = ClassIDs\n",
        "df_image2"
      ],
      "metadata": {
        "colab": {
          "base_uri": "https://localhost:8080/",
          "height": 424
        },
        "id": "6P9gwzSkzODE",
        "outputId": "2889f9e0-e1ec-49cf-a225-46c2d039e7e6"
      },
      "execution_count": null,
      "outputs": [
        {
          "output_type": "execute_result",
          "data": {
            "text/plain": [
              "                                                  Image  ClassId\n",
              "0     [[0, 0, 0, 0, 0, 4, 0, 0, 0, 5, 0, 0, 0, 0, 0,...        3\n",
              "1     [[0, 0, 0, 0, 0, 4, 0, 0, 0, 5, 0, 0, 0, 0, 0,...        2\n",
              "2     [[0, 0, 0, 0, 0, 4, 0, 0, 0, 5, 0, 0, 0, 0, 0,...        2\n",
              "3     [[0, 0, 0, 0, 0, 4, 0, 0, 0, 5, 0, 0, 0, 0, 0,...        2\n",
              "4     [[0, 0, 0, 0, 0, 4, 0, 0, 0, 5, 0, 0, 0, 0, 0,...        2\n",
              "...                                                 ...      ...\n",
              "8727  [[0, 0, 0, 0, 0, 4, 0, 0, 0, 5, 0, 0, 0, 0, 0,...        1\n",
              "8728  [[0, 0, 0, 0, 0, 4, 0, 0, 0, 5, 0, 0, 0, 0, 0,...        1\n",
              "8729  [[0, 0, 0, 0, 0, 4, 0, 0, 0, 5, 0, 0, 0, 0, 0,...        1\n",
              "8730  [[0, 0, 0, 0, 0, 4, 0, 0, 0, 5, 0, 0, 0, 0, 0,...        1\n",
              "8731  [[0, 0, 0, 0, 0, 4, 0, 0, 0, 5, 0, 0, 0, 0, 0,...        1\n",
              "\n",
              "[8732 rows x 2 columns]"
            ],
            "text/html": [
              "\n",
              "  <div id=\"df-24c61e10-81a6-4a4a-bb0a-51830a9abd58\">\n",
              "    <div class=\"colab-df-container\">\n",
              "      <div>\n",
              "<style scoped>\n",
              "    .dataframe tbody tr th:only-of-type {\n",
              "        vertical-align: middle;\n",
              "    }\n",
              "\n",
              "    .dataframe tbody tr th {\n",
              "        vertical-align: top;\n",
              "    }\n",
              "\n",
              "    .dataframe thead th {\n",
              "        text-align: right;\n",
              "    }\n",
              "</style>\n",
              "<table border=\"1\" class=\"dataframe\">\n",
              "  <thead>\n",
              "    <tr style=\"text-align: right;\">\n",
              "      <th></th>\n",
              "      <th>Image</th>\n",
              "      <th>ClassId</th>\n",
              "    </tr>\n",
              "  </thead>\n",
              "  <tbody>\n",
              "    <tr>\n",
              "      <th>0</th>\n",
              "      <td>[[0, 0, 0, 0, 0, 4, 0, 0, 0, 5, 0, 0, 0, 0, 0,...</td>\n",
              "      <td>3</td>\n",
              "    </tr>\n",
              "    <tr>\n",
              "      <th>1</th>\n",
              "      <td>[[0, 0, 0, 0, 0, 4, 0, 0, 0, 5, 0, 0, 0, 0, 0,...</td>\n",
              "      <td>2</td>\n",
              "    </tr>\n",
              "    <tr>\n",
              "      <th>2</th>\n",
              "      <td>[[0, 0, 0, 0, 0, 4, 0, 0, 0, 5, 0, 0, 0, 0, 0,...</td>\n",
              "      <td>2</td>\n",
              "    </tr>\n",
              "    <tr>\n",
              "      <th>3</th>\n",
              "      <td>[[0, 0, 0, 0, 0, 4, 0, 0, 0, 5, 0, 0, 0, 0, 0,...</td>\n",
              "      <td>2</td>\n",
              "    </tr>\n",
              "    <tr>\n",
              "      <th>4</th>\n",
              "      <td>[[0, 0, 0, 0, 0, 4, 0, 0, 0, 5, 0, 0, 0, 0, 0,...</td>\n",
              "      <td>2</td>\n",
              "    </tr>\n",
              "    <tr>\n",
              "      <th>...</th>\n",
              "      <td>...</td>\n",
              "      <td>...</td>\n",
              "    </tr>\n",
              "    <tr>\n",
              "      <th>8727</th>\n",
              "      <td>[[0, 0, 0, 0, 0, 4, 0, 0, 0, 5, 0, 0, 0, 0, 0,...</td>\n",
              "      <td>1</td>\n",
              "    </tr>\n",
              "    <tr>\n",
              "      <th>8728</th>\n",
              "      <td>[[0, 0, 0, 0, 0, 4, 0, 0, 0, 5, 0, 0, 0, 0, 0,...</td>\n",
              "      <td>1</td>\n",
              "    </tr>\n",
              "    <tr>\n",
              "      <th>8729</th>\n",
              "      <td>[[0, 0, 0, 0, 0, 4, 0, 0, 0, 5, 0, 0, 0, 0, 0,...</td>\n",
              "      <td>1</td>\n",
              "    </tr>\n",
              "    <tr>\n",
              "      <th>8730</th>\n",
              "      <td>[[0, 0, 0, 0, 0, 4, 0, 0, 0, 5, 0, 0, 0, 0, 0,...</td>\n",
              "      <td>1</td>\n",
              "    </tr>\n",
              "    <tr>\n",
              "      <th>8731</th>\n",
              "      <td>[[0, 0, 0, 0, 0, 4, 0, 0, 0, 5, 0, 0, 0, 0, 0,...</td>\n",
              "      <td>1</td>\n",
              "    </tr>\n",
              "  </tbody>\n",
              "</table>\n",
              "<p>8732 rows × 2 columns</p>\n",
              "</div>\n",
              "      <button class=\"colab-df-convert\" onclick=\"convertToInteractive('df-24c61e10-81a6-4a4a-bb0a-51830a9abd58')\"\n",
              "              title=\"Convert this dataframe to an interactive table.\"\n",
              "              style=\"display:none;\">\n",
              "        \n",
              "  <svg xmlns=\"http://www.w3.org/2000/svg\" height=\"24px\"viewBox=\"0 0 24 24\"\n",
              "       width=\"24px\">\n",
              "    <path d=\"M0 0h24v24H0V0z\" fill=\"none\"/>\n",
              "    <path d=\"M18.56 5.44l.94 2.06.94-2.06 2.06-.94-2.06-.94-.94-2.06-.94 2.06-2.06.94zm-11 1L8.5 8.5l.94-2.06 2.06-.94-2.06-.94L8.5 2.5l-.94 2.06-2.06.94zm10 10l.94 2.06.94-2.06 2.06-.94-2.06-.94-.94-2.06-.94 2.06-2.06.94z\"/><path d=\"M17.41 7.96l-1.37-1.37c-.4-.4-.92-.59-1.43-.59-.52 0-1.04.2-1.43.59L10.3 9.45l-7.72 7.72c-.78.78-.78 2.05 0 2.83L4 21.41c.39.39.9.59 1.41.59.51 0 1.02-.2 1.41-.59l7.78-7.78 2.81-2.81c.8-.78.8-2.07 0-2.86zM5.41 20L4 18.59l7.72-7.72 1.47 1.35L5.41 20z\"/>\n",
              "  </svg>\n",
              "      </button>\n",
              "      \n",
              "  <style>\n",
              "    .colab-df-container {\n",
              "      display:flex;\n",
              "      flex-wrap:wrap;\n",
              "      gap: 12px;\n",
              "    }\n",
              "\n",
              "    .colab-df-convert {\n",
              "      background-color: #E8F0FE;\n",
              "      border: none;\n",
              "      border-radius: 50%;\n",
              "      cursor: pointer;\n",
              "      display: none;\n",
              "      fill: #1967D2;\n",
              "      height: 32px;\n",
              "      padding: 0 0 0 0;\n",
              "      width: 32px;\n",
              "    }\n",
              "\n",
              "    .colab-df-convert:hover {\n",
              "      background-color: #E2EBFA;\n",
              "      box-shadow: 0px 1px 2px rgba(60, 64, 67, 0.3), 0px 1px 3px 1px rgba(60, 64, 67, 0.15);\n",
              "      fill: #174EA6;\n",
              "    }\n",
              "\n",
              "    [theme=dark] .colab-df-convert {\n",
              "      background-color: #3B4455;\n",
              "      fill: #D2E3FC;\n",
              "    }\n",
              "\n",
              "    [theme=dark] .colab-df-convert:hover {\n",
              "      background-color: #434B5C;\n",
              "      box-shadow: 0px 1px 3px 1px rgba(0, 0, 0, 0.15);\n",
              "      filter: drop-shadow(0px 1px 2px rgba(0, 0, 0, 0.3));\n",
              "      fill: #FFFFFF;\n",
              "    }\n",
              "  </style>\n",
              "\n",
              "      <script>\n",
              "        const buttonEl =\n",
              "          document.querySelector('#df-24c61e10-81a6-4a4a-bb0a-51830a9abd58 button.colab-df-convert');\n",
              "        buttonEl.style.display =\n",
              "          google.colab.kernel.accessAllowed ? 'block' : 'none';\n",
              "\n",
              "        async function convertToInteractive(key) {\n",
              "          const element = document.querySelector('#df-24c61e10-81a6-4a4a-bb0a-51830a9abd58');\n",
              "          const dataTable =\n",
              "            await google.colab.kernel.invokeFunction('convertToInteractive',\n",
              "                                                     [key], {});\n",
              "          if (!dataTable) return;\n",
              "\n",
              "          const docLinkHtml = 'Like what you see? Visit the ' +\n",
              "            '<a target=\"_blank\" href=https://colab.research.google.com/notebooks/data_table.ipynb>data table notebook</a>'\n",
              "            + ' to learn more about interactive tables.';\n",
              "          element.innerHTML = '';\n",
              "          dataTable['output_type'] = 'display_data';\n",
              "          await google.colab.output.renderOutput(dataTable, element);\n",
              "          const docLink = document.createElement('div');\n",
              "          docLink.innerHTML = docLinkHtml;\n",
              "          element.appendChild(docLink);\n",
              "        }\n",
              "      </script>\n",
              "    </div>\n",
              "  </div>\n",
              "  "
            ]
          },
          "metadata": {},
          "execution_count": 42
        }
      ]
    },
    {
      "cell_type": "code",
      "source": [
        "df_image2.info()"
      ],
      "metadata": {
        "colab": {
          "base_uri": "https://localhost:8080/"
        },
        "id": "U8BHPhESzROE",
        "outputId": "e210ac6e-ce17-4397-971d-2c9c14fddbed"
      },
      "execution_count": null,
      "outputs": [
        {
          "output_type": "stream",
          "name": "stdout",
          "text": [
            "<class 'pandas.core.frame.DataFrame'>\n",
            "RangeIndex: 8732 entries, 0 to 8731\n",
            "Data columns (total 2 columns):\n",
            " #   Column   Non-Null Count  Dtype \n",
            "---  ------   --------------  ----- \n",
            " 0   Image    8732 non-null   object\n",
            " 1   ClassId  8732 non-null   int64 \n",
            "dtypes: int64(1), object(1)\n",
            "memory usage: 136.6+ KB\n"
          ]
        }
      ]
    },
    {
      "cell_type": "code",
      "source": [
        "df_image2.to_csv('/content/drive/MyDrive/UrbanSoundNewFile/Image_All.csv',index=False)"
      ],
      "metadata": {
        "id": "0t9RPQo8zStU"
      },
      "execution_count": null,
      "outputs": []
    },
    {
      "cell_type": "code",
      "source": [
        "df_Image_All = pd.read_csv('/content/drive/MyDrive/UrbanSoundNewFile/Image_All.csv')\n",
        "\n",
        "df_Image_All"
      ],
      "metadata": {
        "colab": {
          "base_uri": "https://localhost:8080/",
          "height": 424
        },
        "id": "qazG5Vp3zlKy",
        "outputId": "b80694ed-d01e-42f6-fb15-5c036a7a4029"
      },
      "execution_count": null,
      "outputs": [
        {
          "output_type": "execute_result",
          "data": {
            "text/plain": [
              "                                                  Image  ClassId\n",
              "0     [[  0   0   0   0   0   4   0   0   0   5   0 ...        3\n",
              "1     [[  0   0   0   0   0   4   0   0   0   5   0 ...        2\n",
              "2     [[  0   0   0   0   0   4   0   0   0   5   0 ...        2\n",
              "3     [[  0   0   0   0   0   4   0   0   0   5   0 ...        2\n",
              "4     [[  0   0   0   0   0   4   0   0   0   5   0 ...        2\n",
              "...                                                 ...      ...\n",
              "8727  [[  0   0   0   0   0   4   0   0   0   5   0 ...        1\n",
              "8728  [[  0   0   0   0   0   4   0   0   0   5   0 ...        1\n",
              "8729  [[  0   0   0   0   0   4   0   0   0   5   0 ...        1\n",
              "8730  [[  0   0   0   0   0   4   0   0   0   5   0 ...        1\n",
              "8731  [[  0   0   0   0   0   4   0   0   0   5   0 ...        1\n",
              "\n",
              "[8732 rows x 2 columns]"
            ],
            "text/html": [
              "\n",
              "  <div id=\"df-e1dbbd2f-d5e3-4691-a036-b1bcfe969e19\">\n",
              "    <div class=\"colab-df-container\">\n",
              "      <div>\n",
              "<style scoped>\n",
              "    .dataframe tbody tr th:only-of-type {\n",
              "        vertical-align: middle;\n",
              "    }\n",
              "\n",
              "    .dataframe tbody tr th {\n",
              "        vertical-align: top;\n",
              "    }\n",
              "\n",
              "    .dataframe thead th {\n",
              "        text-align: right;\n",
              "    }\n",
              "</style>\n",
              "<table border=\"1\" class=\"dataframe\">\n",
              "  <thead>\n",
              "    <tr style=\"text-align: right;\">\n",
              "      <th></th>\n",
              "      <th>Image</th>\n",
              "      <th>ClassId</th>\n",
              "    </tr>\n",
              "  </thead>\n",
              "  <tbody>\n",
              "    <tr>\n",
              "      <th>0</th>\n",
              "      <td>[[  0   0   0   0   0   4   0   0   0   5   0 ...</td>\n",
              "      <td>3</td>\n",
              "    </tr>\n",
              "    <tr>\n",
              "      <th>1</th>\n",
              "      <td>[[  0   0   0   0   0   4   0   0   0   5   0 ...</td>\n",
              "      <td>2</td>\n",
              "    </tr>\n",
              "    <tr>\n",
              "      <th>2</th>\n",
              "      <td>[[  0   0   0   0   0   4   0   0   0   5   0 ...</td>\n",
              "      <td>2</td>\n",
              "    </tr>\n",
              "    <tr>\n",
              "      <th>3</th>\n",
              "      <td>[[  0   0   0   0   0   4   0   0   0   5   0 ...</td>\n",
              "      <td>2</td>\n",
              "    </tr>\n",
              "    <tr>\n",
              "      <th>4</th>\n",
              "      <td>[[  0   0   0   0   0   4   0   0   0   5   0 ...</td>\n",
              "      <td>2</td>\n",
              "    </tr>\n",
              "    <tr>\n",
              "      <th>...</th>\n",
              "      <td>...</td>\n",
              "      <td>...</td>\n",
              "    </tr>\n",
              "    <tr>\n",
              "      <th>8727</th>\n",
              "      <td>[[  0   0   0   0   0   4   0   0   0   5   0 ...</td>\n",
              "      <td>1</td>\n",
              "    </tr>\n",
              "    <tr>\n",
              "      <th>8728</th>\n",
              "      <td>[[  0   0   0   0   0   4   0   0   0   5   0 ...</td>\n",
              "      <td>1</td>\n",
              "    </tr>\n",
              "    <tr>\n",
              "      <th>8729</th>\n",
              "      <td>[[  0   0   0   0   0   4   0   0   0   5   0 ...</td>\n",
              "      <td>1</td>\n",
              "    </tr>\n",
              "    <tr>\n",
              "      <th>8730</th>\n",
              "      <td>[[  0   0   0   0   0   4   0   0   0   5   0 ...</td>\n",
              "      <td>1</td>\n",
              "    </tr>\n",
              "    <tr>\n",
              "      <th>8731</th>\n",
              "      <td>[[  0   0   0   0   0   4   0   0   0   5   0 ...</td>\n",
              "      <td>1</td>\n",
              "    </tr>\n",
              "  </tbody>\n",
              "</table>\n",
              "<p>8732 rows × 2 columns</p>\n",
              "</div>\n",
              "      <button class=\"colab-df-convert\" onclick=\"convertToInteractive('df-e1dbbd2f-d5e3-4691-a036-b1bcfe969e19')\"\n",
              "              title=\"Convert this dataframe to an interactive table.\"\n",
              "              style=\"display:none;\">\n",
              "        \n",
              "  <svg xmlns=\"http://www.w3.org/2000/svg\" height=\"24px\"viewBox=\"0 0 24 24\"\n",
              "       width=\"24px\">\n",
              "    <path d=\"M0 0h24v24H0V0z\" fill=\"none\"/>\n",
              "    <path d=\"M18.56 5.44l.94 2.06.94-2.06 2.06-.94-2.06-.94-.94-2.06-.94 2.06-2.06.94zm-11 1L8.5 8.5l.94-2.06 2.06-.94-2.06-.94L8.5 2.5l-.94 2.06-2.06.94zm10 10l.94 2.06.94-2.06 2.06-.94-2.06-.94-.94-2.06-.94 2.06-2.06.94z\"/><path d=\"M17.41 7.96l-1.37-1.37c-.4-.4-.92-.59-1.43-.59-.52 0-1.04.2-1.43.59L10.3 9.45l-7.72 7.72c-.78.78-.78 2.05 0 2.83L4 21.41c.39.39.9.59 1.41.59.51 0 1.02-.2 1.41-.59l7.78-7.78 2.81-2.81c.8-.78.8-2.07 0-2.86zM5.41 20L4 18.59l7.72-7.72 1.47 1.35L5.41 20z\"/>\n",
              "  </svg>\n",
              "      </button>\n",
              "      \n",
              "  <style>\n",
              "    .colab-df-container {\n",
              "      display:flex;\n",
              "      flex-wrap:wrap;\n",
              "      gap: 12px;\n",
              "    }\n",
              "\n",
              "    .colab-df-convert {\n",
              "      background-color: #E8F0FE;\n",
              "      border: none;\n",
              "      border-radius: 50%;\n",
              "      cursor: pointer;\n",
              "      display: none;\n",
              "      fill: #1967D2;\n",
              "      height: 32px;\n",
              "      padding: 0 0 0 0;\n",
              "      width: 32px;\n",
              "    }\n",
              "\n",
              "    .colab-df-convert:hover {\n",
              "      background-color: #E2EBFA;\n",
              "      box-shadow: 0px 1px 2px rgba(60, 64, 67, 0.3), 0px 1px 3px 1px rgba(60, 64, 67, 0.15);\n",
              "      fill: #174EA6;\n",
              "    }\n",
              "\n",
              "    [theme=dark] .colab-df-convert {\n",
              "      background-color: #3B4455;\n",
              "      fill: #D2E3FC;\n",
              "    }\n",
              "\n",
              "    [theme=dark] .colab-df-convert:hover {\n",
              "      background-color: #434B5C;\n",
              "      box-shadow: 0px 1px 3px 1px rgba(0, 0, 0, 0.15);\n",
              "      filter: drop-shadow(0px 1px 2px rgba(0, 0, 0, 0.3));\n",
              "      fill: #FFFFFF;\n",
              "    }\n",
              "  </style>\n",
              "\n",
              "      <script>\n",
              "        const buttonEl =\n",
              "          document.querySelector('#df-e1dbbd2f-d5e3-4691-a036-b1bcfe969e19 button.colab-df-convert');\n",
              "        buttonEl.style.display =\n",
              "          google.colab.kernel.accessAllowed ? 'block' : 'none';\n",
              "\n",
              "        async function convertToInteractive(key) {\n",
              "          const element = document.querySelector('#df-e1dbbd2f-d5e3-4691-a036-b1bcfe969e19');\n",
              "          const dataTable =\n",
              "            await google.colab.kernel.invokeFunction('convertToInteractive',\n",
              "                                                     [key], {});\n",
              "          if (!dataTable) return;\n",
              "\n",
              "          const docLinkHtml = 'Like what you see? Visit the ' +\n",
              "            '<a target=\"_blank\" href=https://colab.research.google.com/notebooks/data_table.ipynb>data table notebook</a>'\n",
              "            + ' to learn more about interactive tables.';\n",
              "          element.innerHTML = '';\n",
              "          dataTable['output_type'] = 'display_data';\n",
              "          await google.colab.output.renderOutput(dataTable, element);\n",
              "          const docLink = document.createElement('div');\n",
              "          docLink.innerHTML = docLinkHtml;\n",
              "          element.appendChild(docLink);\n",
              "        }\n",
              "      </script>\n",
              "    </div>\n",
              "  </div>\n",
              "  "
            ]
          },
          "metadata": {},
          "execution_count": 45
        }
      ]
    },
    {
      "cell_type": "code",
      "source": [
        "df_Image_All.info()"
      ],
      "metadata": {
        "colab": {
          "base_uri": "https://localhost:8080/"
        },
        "id": "etgHlY1Yzm9U",
        "outputId": "ba5c9a34-6deb-407f-c4ad-2a54d7f77aea"
      },
      "execution_count": null,
      "outputs": [
        {
          "output_type": "stream",
          "name": "stdout",
          "text": [
            "<class 'pandas.core.frame.DataFrame'>\n",
            "RangeIndex: 8732 entries, 0 to 8731\n",
            "Data columns (total 2 columns):\n",
            " #   Column   Non-Null Count  Dtype \n",
            "---  ------   --------------  ----- \n",
            " 0   Image    8732 non-null   object\n",
            " 1   ClassId  8732 non-null   int64 \n",
            "dtypes: int64(1), object(1)\n",
            "memory usage: 136.6+ KB\n"
          ]
        }
      ]
    },
    {
      "cell_type": "code",
      "source": [
        "\n",
        "X = df_Image_All.drop('ClassId',axis=1)\n",
        "y = df_Image_All.loc[:,'ClassId']"
      ],
      "metadata": {
        "id": "ruFdG0hfzoWN"
      },
      "execution_count": null,
      "outputs": []
    },
    {
      "cell_type": "code",
      "source": [
        "# Print the newly created DataFrame\n",
        "X.head()"
      ],
      "metadata": {
        "colab": {
          "base_uri": "https://localhost:8080/",
          "height": 206
        },
        "id": "LN6ulFEDzqM1",
        "outputId": "35505bcf-8aff-44d9-9433-7fc562d3776d"
      },
      "execution_count": null,
      "outputs": [
        {
          "output_type": "execute_result",
          "data": {
            "text/plain": [
              "                                               Image\n",
              "0  [[  0   0   0   0   0   4   0   0   0   5   0 ...\n",
              "1  [[  0   0   0   0   0   4   0   0   0   5   0 ...\n",
              "2  [[  0   0   0   0   0   4   0   0   0   5   0 ...\n",
              "3  [[  0   0   0   0   0   4   0   0   0   5   0 ...\n",
              "4  [[  0   0   0   0   0   4   0   0   0   5   0 ..."
            ],
            "text/html": [
              "\n",
              "  <div id=\"df-3b307e3c-9f14-4883-8067-6764b7bd07e0\">\n",
              "    <div class=\"colab-df-container\">\n",
              "      <div>\n",
              "<style scoped>\n",
              "    .dataframe tbody tr th:only-of-type {\n",
              "        vertical-align: middle;\n",
              "    }\n",
              "\n",
              "    .dataframe tbody tr th {\n",
              "        vertical-align: top;\n",
              "    }\n",
              "\n",
              "    .dataframe thead th {\n",
              "        text-align: right;\n",
              "    }\n",
              "</style>\n",
              "<table border=\"1\" class=\"dataframe\">\n",
              "  <thead>\n",
              "    <tr style=\"text-align: right;\">\n",
              "      <th></th>\n",
              "      <th>Image</th>\n",
              "    </tr>\n",
              "  </thead>\n",
              "  <tbody>\n",
              "    <tr>\n",
              "      <th>0</th>\n",
              "      <td>[[  0   0   0   0   0   4   0   0   0   5   0 ...</td>\n",
              "    </tr>\n",
              "    <tr>\n",
              "      <th>1</th>\n",
              "      <td>[[  0   0   0   0   0   4   0   0   0   5   0 ...</td>\n",
              "    </tr>\n",
              "    <tr>\n",
              "      <th>2</th>\n",
              "      <td>[[  0   0   0   0   0   4   0   0   0   5   0 ...</td>\n",
              "    </tr>\n",
              "    <tr>\n",
              "      <th>3</th>\n",
              "      <td>[[  0   0   0   0   0   4   0   0   0   5   0 ...</td>\n",
              "    </tr>\n",
              "    <tr>\n",
              "      <th>4</th>\n",
              "      <td>[[  0   0   0   0   0   4   0   0   0   5   0 ...</td>\n",
              "    </tr>\n",
              "  </tbody>\n",
              "</table>\n",
              "</div>\n",
              "      <button class=\"colab-df-convert\" onclick=\"convertToInteractive('df-3b307e3c-9f14-4883-8067-6764b7bd07e0')\"\n",
              "              title=\"Convert this dataframe to an interactive table.\"\n",
              "              style=\"display:none;\">\n",
              "        \n",
              "  <svg xmlns=\"http://www.w3.org/2000/svg\" height=\"24px\"viewBox=\"0 0 24 24\"\n",
              "       width=\"24px\">\n",
              "    <path d=\"M0 0h24v24H0V0z\" fill=\"none\"/>\n",
              "    <path d=\"M18.56 5.44l.94 2.06.94-2.06 2.06-.94-2.06-.94-.94-2.06-.94 2.06-2.06.94zm-11 1L8.5 8.5l.94-2.06 2.06-.94-2.06-.94L8.5 2.5l-.94 2.06-2.06.94zm10 10l.94 2.06.94-2.06 2.06-.94-2.06-.94-.94-2.06-.94 2.06-2.06.94z\"/><path d=\"M17.41 7.96l-1.37-1.37c-.4-.4-.92-.59-1.43-.59-.52 0-1.04.2-1.43.59L10.3 9.45l-7.72 7.72c-.78.78-.78 2.05 0 2.83L4 21.41c.39.39.9.59 1.41.59.51 0 1.02-.2 1.41-.59l7.78-7.78 2.81-2.81c.8-.78.8-2.07 0-2.86zM5.41 20L4 18.59l7.72-7.72 1.47 1.35L5.41 20z\"/>\n",
              "  </svg>\n",
              "      </button>\n",
              "      \n",
              "  <style>\n",
              "    .colab-df-container {\n",
              "      display:flex;\n",
              "      flex-wrap:wrap;\n",
              "      gap: 12px;\n",
              "    }\n",
              "\n",
              "    .colab-df-convert {\n",
              "      background-color: #E8F0FE;\n",
              "      border: none;\n",
              "      border-radius: 50%;\n",
              "      cursor: pointer;\n",
              "      display: none;\n",
              "      fill: #1967D2;\n",
              "      height: 32px;\n",
              "      padding: 0 0 0 0;\n",
              "      width: 32px;\n",
              "    }\n",
              "\n",
              "    .colab-df-convert:hover {\n",
              "      background-color: #E2EBFA;\n",
              "      box-shadow: 0px 1px 2px rgba(60, 64, 67, 0.3), 0px 1px 3px 1px rgba(60, 64, 67, 0.15);\n",
              "      fill: #174EA6;\n",
              "    }\n",
              "\n",
              "    [theme=dark] .colab-df-convert {\n",
              "      background-color: #3B4455;\n",
              "      fill: #D2E3FC;\n",
              "    }\n",
              "\n",
              "    [theme=dark] .colab-df-convert:hover {\n",
              "      background-color: #434B5C;\n",
              "      box-shadow: 0px 1px 3px 1px rgba(0, 0, 0, 0.15);\n",
              "      filter: drop-shadow(0px 1px 2px rgba(0, 0, 0, 0.3));\n",
              "      fill: #FFFFFF;\n",
              "    }\n",
              "  </style>\n",
              "\n",
              "      <script>\n",
              "        const buttonEl =\n",
              "          document.querySelector('#df-3b307e3c-9f14-4883-8067-6764b7bd07e0 button.colab-df-convert');\n",
              "        buttonEl.style.display =\n",
              "          google.colab.kernel.accessAllowed ? 'block' : 'none';\n",
              "\n",
              "        async function convertToInteractive(key) {\n",
              "          const element = document.querySelector('#df-3b307e3c-9f14-4883-8067-6764b7bd07e0');\n",
              "          const dataTable =\n",
              "            await google.colab.kernel.invokeFunction('convertToInteractive',\n",
              "                                                     [key], {});\n",
              "          if (!dataTable) return;\n",
              "\n",
              "          const docLinkHtml = 'Like what you see? Visit the ' +\n",
              "            '<a target=\"_blank\" href=https://colab.research.google.com/notebooks/data_table.ipynb>data table notebook</a>'\n",
              "            + ' to learn more about interactive tables.';\n",
              "          element.innerHTML = '';\n",
              "          dataTable['output_type'] = 'display_data';\n",
              "          await google.colab.output.renderOutput(dataTable, element);\n",
              "          const docLink = document.createElement('div');\n",
              "          docLink.innerHTML = docLinkHtml;\n",
              "          element.appendChild(docLink);\n",
              "        }\n",
              "      </script>\n",
              "    </div>\n",
              "  </div>\n",
              "  "
            ]
          },
          "metadata": {},
          "execution_count": 51
        }
      ]
    },
    {
      "cell_type": "code",
      "source": [
        "y"
      ],
      "metadata": {
        "colab": {
          "base_uri": "https://localhost:8080/"
        },
        "id": "WG_xb_8xzrhc",
        "outputId": "8a2d32ac-3cbb-429b-ed72-2a911dcd68cb"
      },
      "execution_count": null,
      "outputs": [
        {
          "output_type": "execute_result",
          "data": {
            "text/plain": [
              "0       3\n",
              "1       2\n",
              "2       2\n",
              "3       2\n",
              "4       2\n",
              "       ..\n",
              "8727    1\n",
              "8728    1\n",
              "8729    1\n",
              "8730    1\n",
              "8731    1\n",
              "Name: ClassId, Length: 8732, dtype: int64"
            ]
          },
          "metadata": {},
          "execution_count": 52
        }
      ]
    },
    {
      "cell_type": "code",
      "source": [
        "X_train, X_temporary ,y_train ,y_temporary = train_test_split(X,y,train_size=0.8)\n",
        "X_val ,X_test ,y_val,y_test = train_test_split(X_temporary,y_temporary,train_size=0.5)"
      ],
      "metadata": {
        "id": "26ox9o7Tz0K8"
      },
      "execution_count": null,
      "outputs": []
    },
    {
      "cell_type": "code",
      "source": [
        "print(f'Length of data set {len(X)}')\n",
        "print(f'Length of train data set {len(X_train)}')\n",
        "print(f'Length of validation data set {len(X_val)}')\n",
        "print(f'Length of test data set {len(X_test)}')"
      ],
      "metadata": {
        "colab": {
          "base_uri": "https://localhost:8080/"
        },
        "id": "-iTm8hHjz37o",
        "outputId": "bc1b2904-5368-48da-a9f8-aae63aca691e"
      },
      "execution_count": null,
      "outputs": [
        {
          "output_type": "stream",
          "name": "stdout",
          "text": [
            "Length of data set 8732\n",
            "Length of train data set 6985\n",
            "Length of validation data set 873\n",
            "Length of test data set 874\n"
          ]
        }
      ]
    },
    {
      "cell_type": "code",
      "source": [
        "print(f'Length of data set {len(y)}')\n",
        "print(f'Length of train data set {len(y_train)}')\n",
        "print(f'Length of validation data set {len(y_val)}')\n",
        "print(f'Length of test data set {len(y_test)}')"
      ],
      "metadata": {
        "colab": {
          "base_uri": "https://localhost:8080/"
        },
        "id": "8aIWN1wtz6LN",
        "outputId": "a67c8879-889b-41c4-f486-239ed8e44767"
      },
      "execution_count": null,
      "outputs": [
        {
          "output_type": "stream",
          "name": "stdout",
          "text": [
            "Length of data set 8732\n",
            "Length of train data set 6985\n",
            "Length of validation data set 873\n",
            "Length of test data set 874\n"
          ]
        }
      ]
    },
    {
      "cell_type": "code",
      "source": [
        "X_train.to_csv('/content/drive/MyDrive/UrbanSoundNewFile/Image_X_train.csv',index=False)\n",
        "X_val.to_csv('/content/drive/MyDrive/UrbanSoundNewFile/Image_X_val.csv',index=False)\n",
        "X_test.to_csv('/content/drive/MyDrive/UrbanSoundNewFile/Image_X_test.csv',index=False)\n",
        "\n",
        "y_train.to_csv('/content/drive/MyDrive/UrbanSoundNewFile/Image_y_train.csv',index=False)\n",
        "y_val.to_csv('/content/drive/MyDrive/UrbanSoundNewFile/Image_y_val.csv',index=False)\n",
        "y_test.to_csv('/content/drive/MyDrive/UrbanSoundNewFile/Image_y_test.csv',index=False)"
      ],
      "metadata": {
        "id": "KXIoVGsCz8bN"
      },
      "execution_count": null,
      "outputs": []
    }
  ]
}